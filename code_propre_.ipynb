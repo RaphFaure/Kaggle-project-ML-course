{
 "cells": [
  {
   "cell_type": "markdown",
   "metadata": {
    "id": "ppQWlV9lDJOo"
   },
   "source": [
    "# Automated analysis of EEG signal quality using the data from the Dreem Headband by Beacon Biosignals"
   ]
  },
  {
   "cell_type": "markdown",
   "metadata": {
    "id": "89NTzeyYDJOs"
   },
   "source": [
    "**Rapport réalisé par Anatole Belloni et Raphaël Faure**\n",
    "\n",
    "Challenge Kaggle : **EEG signal quality analysis by Beacon Biosignals**\n",
    "\n",
    "Nom d'équipe : **ABELLONI_RFAURE**\n"
   ]
  },
  {
   "cell_type": "code",
   "execution_count": 1,
   "metadata": {
    "executionInfo": {
     "elapsed": 13850,
     "status": "ok",
     "timestamp": 1736446003770,
     "user": {
      "displayName": "Raphaël FAURE",
      "userId": "04881643138100346385"
     },
     "user_tz": -60
    },
    "id": "sR9T6QulDJOv"
   },
   "outputs": [],
   "source": [
    "from pathlib import Path\n",
    "import numpy as np\n",
    "import seaborn as sns\n",
    "import matplotlib.pyplot as plt\n",
    "from scipy.signal import butter, lfilter\n",
    "import pandas as pd\n",
    "from scipy.signal import butter, filtfilt\n",
    "import torch\n",
    "import torch.nn as nn\n",
    "import torch.optim as optim\n",
    "from torch.utils.data import DataLoader\n",
    "from torch.utils.data import Dataset, Subset"
   ]
  },
  {
   "cell_type": "markdown",
   "metadata": {
    "id": "hQvMyrRWDJO0"
   },
   "source": [
    "# Premières solutions et limites"
   ]
  },
  {
   "cell_type": "markdown",
   "metadata": {},
   "source": [
    "Nous avons tout d'abord repris le traitement proposé dans le notebook du projet en cherchant des features pertinentes pour notre modèle. Nous avons alors testé des modèles comme Random Forest ou XGB mais ayant à chaque fois de nouvelles idées de features, nous nous sommes rapidement demandé s'il n'existait pas un moyen pour extraire directement un nombre fixe de features pertinentes. Nous nous sommes ainsi naturellement tourné vers des méthodes de Deep Learning. Nous avons alors testé plusieurs modèles et dimensionement, et c'est le CNN qui a obtenu les meilleurs résultats."
   ]
  },
  {
   "cell_type": "markdown",
   "metadata": {
    "id": "qthcMOFlDJO2"
   },
   "source": [
    "# Plan de la solution actuelle\n",
    "La solution qu'on a imaginé est donc un Convolutionnal Neural Network (CNN) combiné avec un XGBoost. La suite du code suivra alors le plan suivant :\n",
    "- Création des classes de datasets et du modèle\n",
    "- Limite de la loss usuelle et création d'une nouvelle\n",
    "- Résultats\n"
   ]
  },
  {
   "cell_type": "markdown",
   "metadata": {
    "id": "hk8IDvbkDJO4"
   },
   "source": [
    "## Classes des objets"
   ]
  },
  {
   "cell_type": "markdown",
   "metadata": {
    "id": "W2ws9SfLDJO5"
   },
   "source": [
    "### Dataset train et test\n",
    "\n",
    "La question du prétraitement des données est essentielle, surtout dans des tâches comme la classification de signaux EEG, où le bruit est présent sous différentes formes : biais du capteur (fréquence basse), bruit gaussien (fréquence haute). Pour cela, nous avons reutilisé les passes-bandes donnés dans le notebook d'introduction."
   ]
  },
  {
   "cell_type": "code",
   "execution_count": 2,
   "metadata": {
    "executionInfo": {
     "elapsed": 8,
     "status": "ok",
     "timestamp": 1736446003771,
     "user": {
      "displayName": "Raphaël FAURE",
      "userId": "04881643138100346385"
     },
     "user_tz": -60
    },
    "id": "k1qfcGe2DJO7"
   },
   "outputs": [],
   "source": [
    "# Bandpass\n",
    "\n",
    "def butter_bandpass(lowcut, highcut, fs, order=5):\n",
    "    return butter(order, [lowcut, highcut], fs=fs, btype='band')\n",
    "\n",
    "def butter_bandpass_filter(data, lowcut, highcut, fs, order=5):\n",
    "    b, a = butter_bandpass(lowcut, highcut, fs, order=order)\n",
    "    y = lfilter(b, a, data)\n",
    "    return y\n",
    "\n",
    "def butter_lowpass_filter(data, cutoff, fs, order=4):\n",
    "    nyquist = 0.5 * fs  # Fréquence de Nyquist\n",
    "    normal_cutoff = cutoff / nyquist  # Fréquence de coupure normalisée\n",
    "    b, a = butter(order, normal_cutoff, btype='low', analog=False)\n",
    "    return filtfilt(b, a, data)\n"
   ]
  },
  {
   "cell_type": "markdown",
   "metadata": {
    "id": "KWXbgtpRDJO_"
   },
   "source": [
    "Pour faciliter notre travail par la suite, nous allons créer une classe EEGtrainset qui nous permettera de charger les données et de les mettre en forme."
   ]
  },
  {
   "cell_type": "code",
   "execution_count": 4,
   "metadata": {
    "executionInfo": {
     "elapsed": 7,
     "status": "ok",
     "timestamp": 1736446003771,
     "user": {
      "displayName": "Raphaël FAURE",
      "userId": "04881643138100346385"
     },
     "user_tz": -60
    },
    "id": "SY2HI-2gDJO_"
   },
   "outputs": [],
   "source": [
    "def reshape_array_into_windows(x, sample_rate, window_duration_in_seconds):\n",
    "    \"\"\"\n",
    "    Reshape the data into an array of shape (C, T, window) where 'window' contains\n",
    "    the points corresponding to 'window_duration' seconds of data.\n",
    "\n",
    "    Parameters:\n",
    "    x (numpy array): The input data array.\n",
    "    sample_rate (int): The number of samples per second.\n",
    "    window_duration_in_seconds (float): The duration of each window in seconds.\n",
    "\n",
    "    Returns:\n",
    "    reshaped_x (numpy array): The reshaped array with shape (C, T, window).\n",
    "    \"\"\"\n",
    "    # Calculate the number of samples in one window\n",
    "    window_size = int(window_duration_in_seconds * sample_rate)\n",
    "\n",
    "    # Ensure the total length of x is a multiple of window_size\n",
    "    total_samples = x.shape[-1]\n",
    "    if total_samples % window_size != 0:\n",
    "        # Truncate or pad x to make it divisible by window_size\n",
    "        x = x[..., :total_samples - (total_samples % window_size)]\n",
    "    # Reshape x into (C, T, window)\n",
    "    reshaped_x = x.reshape(x.shape[0], -1, window_size)\n",
    "\n",
    "    return reshaped_x\n"
   ]
  },
  {
   "cell_type": "code",
   "execution_count": 5,
   "metadata": {
    "executionInfo": {
     "elapsed": 7,
     "status": "ok",
     "timestamp": 1736446003771,
     "user": {
      "displayName": "Raphaël FAURE",
      "userId": "04881643138100346385"
     },
     "user_tz": -60
    },
    "id": "ftE3F_wjDJPA"
   },
   "outputs": [],
   "source": [
    "import numpy as np\n",
    "from torch.utils.data import Dataset, DataLoader, Subset\n",
    "\n",
    "class EEGDataset_train(Dataset):\n",
    "    def __init__(self, signal_files, target_files, sample_rate=250, window_duration=2):\n",
    "        \"\"\"\n",
    "        Initialise le dataset EEG.\n",
    "\n",
    "        Parameters:\n",
    "        signal_files (list): Liste des chemins des fichiers de signaux EEG.\n",
    "        target_files (list): Liste des chemins des fichiers de labels correspondants.\n",
    "        sample_rate (int): Fréquence d'échantillonnage des signaux.\n",
    "        window_duration (int): Durée de chaque fenêtre (en secondes).\n",
    "        \"\"\"\n",
    "        self.data = []\n",
    "        self.targets = []\n",
    "        self.sample_rate = sample_rate\n",
    "        self.window_duration = window_duration\n",
    "        data = [(np.load(signal_files[i]),np.load(target_files[i])) for i in range(len(signal_files))]\n",
    "        for i,(signal,target) in enumerate(data):\n",
    "            print()\n",
    "            print(f\"Recording {i}\")\n",
    "            print(\"Data shape\", signal.shape,target.shape)\n",
    "            print(\"Data duration:\", signal.shape[1]/250)\n",
    "            print(\"Labels duration\",target.shape[1] * 2)\n",
    "        for (signals,targets) in data:\n",
    "            # Découper les signaux en fenêtres\n",
    "            filtered_signals = butter_bandpass_filter(signals,0.1,100,250,4)\n",
    "            reshaped_signals = reshape_array_into_windows(filtered_signals, sample_rate, window_duration)  # (C, T, window_size)\n",
    "            reshaped_signals = reshaped_signals.reshape((-1,reshaped_signals.shape[-1]))\n",
    "            self.data.append(reshaped_signals)\n",
    "\n",
    "            # Truncate les labels pour s'aligner avec les fenêtres\n",
    "            targets_flatten = targets.reshape((-1))\n",
    "            self.targets.append(targets_flatten)\n",
    "\n",
    "        # Convertir en arrays numpy\n",
    "        self.data = np.concatenate(self.data, axis=0)  # (Total_T, window_size)\n",
    "        self.targets = np.concatenate(self.targets, axis=0)  # (Total_T,)\n",
    "        assert self.data.shape[0] == self.targets.shape[0]\n",
    "\n",
    "    def __len__(self):\n",
    "        # Retourne le nombre total de fenêtres (tous canaux confondus)\n",
    "        return self.data.shape[0]\n",
    "\n",
    "    def __getitem__(self, idx):\n",
    "        # Retourne une fenêtre EEG et son label correspondant\n",
    "        signal = self.data[idx, :]  # (window_size,)\n",
    "        label = self.targets[idx]  # (1,)\n",
    "        return signal, label\n",
    "\n",
    "    def train_test_split(self, tau=0.8, random_seed=None):\n",
    "        \"\"\"\n",
    "        Sépare le dataset en un train_set et un test_set en fonction de la proportion tau.\n",
    "\n",
    "        Parameters:\n",
    "        tau (float): Proportion des données dans le train_set (entre 0 et 1).\n",
    "        random_seed (int, optional): Seed pour le mélange aléatoire des indices.\n",
    "\n",
    "        Returns:\n",
    "        train_set (Subset): Sous-ensemble d'entraînement.\n",
    "        test_set (Subset): Sous-ensemble de test.\n",
    "        \"\"\"\n",
    "        # Nombre total d'échantillons\n",
    "        total_samples = len(self)\n",
    "\n",
    "        # Mélanger les indices\n",
    "        indices = np.arange(total_samples)\n",
    "        if random_seed is not None:\n",
    "            np.random.seed(random_seed)\n",
    "        np.random.shuffle(indices)\n",
    "\n",
    "        # Calculer la taille des ensembles\n",
    "        train_size = int(total_samples * tau)\n",
    "        train_indices = indices[:train_size]\n",
    "        test_indices = indices[train_size:]\n",
    "\n",
    "        # Créer des Subsets pour train et test\n",
    "        train_set = Subset(self, train_indices)\n",
    "        test_set = Subset(self, test_indices)\n",
    "\n",
    "        return train_set, test_set\n"
   ]
  },
  {
   "cell_type": "code",
   "execution_count": 6,
   "metadata": {
    "executionInfo": {
     "elapsed": 6,
     "status": "ok",
     "timestamp": 1736446003771,
     "user": {
      "displayName": "Raphaël FAURE",
      "userId": "04881643138100346385"
     },
     "user_tz": -60
    },
    "id": "JI4rVRAlDJPC"
   },
   "outputs": [],
   "source": [
    "import numpy as np\n",
    "from torch.utils.data import Dataset\n",
    "\n",
    "class EEGDataset_test(Dataset):\n",
    "    def __init__(self, signal_files, sample_rate=250, window_duration=2):\n",
    "        \"\"\"\n",
    "        Initialise le dataset EEG pour les données de test.\n",
    "\n",
    "        Parameters:\n",
    "        - signal_files (list): Liste des chemins des fichiers de signaux EEG.\n",
    "        - sample_rate (int): Fréquence d'échantillonnage des signaux.\n",
    "        - window_duration (int): Durée de chaque fenêtre (en secondes).\n",
    "        \"\"\"\n",
    "        self.data = []\n",
    "        self.sample_rate = sample_rate\n",
    "        self.window_duration = window_duration\n",
    "\n",
    "        for signal_file in signal_files:\n",
    "            # Charger les signaux\n",
    "            signals = np.load(signal_file)  # (C, N_samples)\n",
    "            print(f\"Loaded signal shape: {signals.shape}\")  # Debug\n",
    "\n",
    "            # Découper les signaux en fenêtres\n",
    "            filtered_signals = butter_bandpass_filter(signals,0.1,100,250,4)\n",
    "            reshaped_signals = reshape_array_into_windows(filtered_signals, sample_rate, window_duration)  # (C, T, window_size)\n",
    "            print(f\"Reshaped signal shape: {reshaped_signals.shape}\")  # Debug\n",
    "            reshaped_signals = reshaped_signals.reshape((-1,reshaped_signals.shape[-1]))\n",
    "            # Ajouter les signaux reshaped à la liste globale\n",
    "            self.data.append(reshaped_signals)\n",
    "\n",
    "        # Combiner toutes les données\n",
    "        self.data = np.concatenate(self.data, axis=0)  # (C, Total_T, window_size)\n",
    "        print(f\"Final concatenated data shape: {self.data.shape}\")  # Debug\n",
    "\n",
    "    def __len__(self):\n",
    "        \"\"\"\n",
    "        Retourne le nombre total de fenêtres (Total_T).\n",
    "        \"\"\"\n",
    "        return self.data.shape[0]\n",
    "\n",
    "    def __getitem__(self, idx):\n",
    "        \"\"\"\n",
    "        Retourne une fenêtre (signal) et un label factice.\n",
    "\n",
    "        Parameters:\n",
    "        - idx (int): Index de la fenêtre.\n",
    "\n",
    "        Returns:\n",
    "        - signal (numpy array): Fenêtre EEG de forme (C, window_size).\n",
    "        - dummy_label (int): Faux label (-1).\n",
    "        \"\"\"\n",
    "        signal = self.data[ idx, :]  # (C, window_size)\n",
    "        dummy_label = -1  # Pas de label pour le test\n",
    "        return signal, dummy_label\n"
   ]
  },
  {
   "cell_type": "markdown",
   "metadata": {
    "id": "QnvdQE2FDJPE"
   },
   "source": [
    "L'intérêt des classes est de personnaliser le pipeline de données en fonction des besoins spécifiques, tout en intégrant efficacement les prétraitements, la gestion des labels et la compatibilité avec les DataLoaders. "
   ]
  },
  {
   "cell_type": "markdown",
   "metadata": {
    "id": "5loC4fupDJPF"
   },
   "source": [
    "### CNN"
   ]
  },
  {
   "cell_type": "markdown",
   "metadata": {
    "id": "G2iLkR5YDJPG"
   },
   "source": [
    "- Les **Convolutional Neural Networks (CNN)** sont conçus pour extraire des motifs cachés, même dans des données bruitées, grâce à leurs filtres convolutifs qui apprennent automatiquement les caractéristiques pertinentes. Les CNN sont donc particulièrement adaptés à cette tâche, car ils vont pouvoir:\n",
    "  - capturer les motifs significatifs dans le signal, indépendamment du bruit.\n",
    "  - exploiter les informations dans plusieurs bandes de fréquence sans nécessiter de prétraitements complexes.\n",
    "\n",
    "- A propos des traitements, dans le cas des signaux EEG, une analyse empirique a montré que la bande de fréquence [0.1  $\\text{Hz}$, 100  $\\text{Hz}$] donne les meilleurs résultats :\n",
    "  - Les basses fréquences < 0.1 $\\text{Hz}$ capturent essentiellement des termes continus dus aux capteurs.\n",
    "  - Les hautes fréquences > 100 $\\text{Hz}$ contiennent principalement du bruit. Une bande plus large (\\(> 100 $\\text{Hz}$\\)) n’améliorait donc pas les résultats. Ce choix de bande de fréquence représente le meilleur compromis pour inclure suffisamment d’informations pertinentes tout en excluant les données bruitées."
   ]
  },
  {
   "cell_type": "code",
   "execution_count": 7,
   "metadata": {
    "executionInfo": {
     "elapsed": 5,
     "status": "ok",
     "timestamp": 1736446003771,
     "user": {
      "displayName": "Raphaël FAURE",
      "userId": "04881643138100346385"
     },
     "user_tz": -60
    },
    "id": "FgI1KB9xDJPG"
   },
   "outputs": [],
   "source": [
    "import torch\n",
    "import torch.nn as nn\n",
    "\n",
    "class TemporalCNN(nn.Module):\n",
    "    def __init__(self, nb_points_entree=500, nb_class=2, dropout_rate=0.2,\n",
    "                 filters=[16, 32, 64], kernel_sizes=[64, 32, 16]):\n",
    "        \"\"\"\n",
    "        Paramètres modifiables :\n",
    "        - filters (list): Nombre de filtres pour chaque couche convolutionnelle.\n",
    "        - kernel_sizes (list): Taille des noyaux pour chaque couche convolutionnelle.\n",
    "        \"\"\"\n",
    "        super(TemporalCNN, self).__init__()\n",
    "\n",
    "        self.conv1 = nn.Conv1d(1, filters[0], kernel_size=kernel_sizes[0], stride=1, padding=kernel_sizes[0] // 2)\n",
    "        self.batch_norm1 = nn.BatchNorm1d(filters[0])\n",
    "\n",
    "        self.conv2 = nn.Conv1d(filters[0], filters[1], kernel_size=kernel_sizes[1], stride=1, padding=kernel_sizes[1] // 2)\n",
    "        self.batch_norm2 = nn.BatchNorm1d(filters[1])\n",
    "\n",
    "        self.conv3 = nn.Conv1d(filters[1], filters[2], kernel_size=kernel_sizes[2], stride=1, padding=kernel_sizes[2] // 2)\n",
    "        self.batch_norm3 = nn.BatchNorm1d(filters[2])\n",
    "\n",
    "        self.pool = nn.AvgPool1d(kernel_size=4)\n",
    "        self.dropout = nn.Dropout(dropout_rate)\n",
    "\n",
    "        # Calcul de la taille d'entrée pour la couche fully connected\n",
    "        fc_input_size = filters[2] * (nb_points_entree // 4)\n",
    "        self.fc = nn.Linear(fc_input_size, nb_class)\n",
    "\n",
    "    def forward(self, x):\n",
    "        # Ajouter une dimension pour les canaux (batch_size, 1, window_size)\n",
    "        x = x.unsqueeze(1)\n",
    "\n",
    "        # Pipeline convolutif\n",
    "        x = torch.relu(self.batch_norm1(self.conv1(x)))\n",
    "        x = torch.relu(self.batch_norm2(self.conv2(x)))\n",
    "        x = torch.relu(self.batch_norm3(self.conv3(x)))\n",
    "        x = self.pool(x)\n",
    "\n",
    "        # Aplatir et passer dans les couches fully connected\n",
    "        x = torch.flatten(x, 1)\n",
    "        x = self.dropout(x)\n",
    "        x = self.fc(x)\n",
    "\n",
    "        return torch.log_softmax(x, dim=1)\n"
   ]
  },
  {
   "cell_type": "markdown",
   "metadata": {
    "id": "0JqpR3owDJPI"
   },
   "source": [
    "### Fonctions Loss"
   ]
  },
  {
   "cell_type": "markdown",
   "metadata": {
    "id": "9vWelj7eDJPI"
   },
   "source": [
    "- **Limites de la Binary Cross-Entropy (BCE) :**\n",
    "  - Dans ce projet, les données sont déséquilibrées avec ~60% de 1 et ~40% de 0 (cf. le tenseur class_weights), ce qui rend la BCE inadaptée, car elle ne pénalise pas suffisamment les erreurs sur la classe minoritaire.  L'ajout de poids de classe pour compenser cet effet a montré des résultats limités pour résoudre le problème de déséquilibre. La vitesse de convergence était vraiment plus faible.\n",
    "\n",
    "- **Focus sur le Kappa Score :**\n",
    "  - Le **Kappa score** est une mesure utilisée pour évaluer la concordance entre deux ensembles de classifications, tout en tenant compte de la concordance qui pourrait se produire par hasard. C'est de plus une métrique qui nous intéresse particulièrement étant donné que c'est celle qu'on cherche à maximiser pour ce challenge. L'idée est donc d'ajouter un terme valorisant le kappa score de la binary cross entropie. Cependant, sa non-différentiabilité empêche son utilisation directe comme fonction de perte pour optimiser le modèle. Aucune implémentation native de la **Kappa Loss** n'existe de plus dans PyTorch, ce qui a nécessité le développement d'une approximation différentiable spécifique pour ce projet. Combiner la **Kappa Loss** avec d'autres métriques comme la précision peut introduire des difficultés supplémentaires dans l'entraînement, avec une convergence plus lente et une sensibilité accrue aux hyperparamètres, tels que l'alpha dans la combinaison des pertes. (cf. le prochain markdown)\n"
   ]
  },
  {
   "cell_type": "markdown",
   "metadata": {},
   "source": [
    "#### Formalisation de l'approximation de $\\kappa$\n",
    "##### 1. Matrice d'accords observés\n",
    "\n",
    "La matrice des accords observés $\\mathbf{O}$ est donnée par :\n",
    "\n",
    "$$\n",
    "\\mathbf{O} =\n",
    "\\begin{bmatrix}\n",
    "O_{00} & O_{01} \\\\\n",
    "O_{10} & O_{11}\n",
    "\\end{bmatrix}\n",
    "$$\n",
    "\n",
    "où chaque élément $O_{ij}$ est calculé comme suit :\n",
    "\n",
    "$$\n",
    "O_{ij} = \\frac{\\sum_{k} \\mathbb{1}[y_{\\text{true},k} = i] \\cdot p_{\\text{pred},k}(j)}{\\sum_{k} \\mathbb{1}[y_{\\text{true},k} = i]}\n",
    "$$\n",
    "\n",
    "avec :\n",
    "- $i, j \\in \\{0, 1\\}$,\n",
    "- $p_{\\text{pred},k}(j)$ est la probabilité prédite pour la classe $j$,\n",
    "- $\\mathbb{1}[y_{\\text{true},k} = i]$ est une fonction indicatrice valant $1$ si $y_{\\text{true},k} = i$, sinon $0$.\n",
    "\n",
    "Pour normaliser, on peut écrire sous forme matricielle:\n",
    "\n",
    "$$\n",
    "\\mathbf{O} = \\frac{\\mathbf{T}^\\top \\mathbf{P}}{\\sum \\mathbf{T}^\\top \\mathbf{P}}\n",
    "$$\n",
    "\n",
    "où :\n",
    "- $\\mathbf{T}$ est le vecteur des labels réels ($2 \\times n$, one-hot encodé),\n",
    "- $\\mathbf{P}$ est le vecteur des probabilités prédites ($2 \\times n$).\n",
    "\n",
    "---\n",
    "\n",
    "##### 2. Matrice d'accords attendus\n",
    "\n",
    "La matrice attendue $\\mathbf{E}$, qui représente les accords obtenus par hasard, est donnée par :\n",
    "\n",
    "$$\n",
    "\\mathbf{E} =\n",
    "\\begin{bmatrix}\n",
    "E_{00} & E_{01} \\\\\n",
    "E_{10} & E_{11}\n",
    "\\end{bmatrix}\n",
    "$$\n",
    "\n",
    "Chaque élément est calculé comme suit :\n",
    "\n",
    "$$\n",
    "E_{ij} = \\frac{r_i \\cdot c_j}{\\left( \\sum \\mathbf{O} \\right)^2}\n",
    "$$\n",
    "\n",
    "avec :\n",
    "- $r_i = \\sum_{j} O_{ij}$, la somme des accords observés pour la classe réelle $i$,\n",
    "- $c_j = \\sum_{i} O_{ij}$, la somme des accords observés pour la classe prédite $j$,\n",
    "- $\\sum \\mathbf{O} = \\sum_{i,j} O_{ij}$, le total des échantillons.\n",
    "\n",
    "---\n",
    "\n",
    "##### Interprétation\n",
    "\n",
    "- $\\mathbf{E}$ suppose que les accords entre labels réels et prédictions sont **indépendants**.\n",
    "- Les diagonales ($E_{00}, E_{11}$) représentent les accords attendus pour les classes 0 et 1, respectivement, si les prédictions étaient aléatoires.\n",
    "- Les hors-diagonales $(E_{01}, E_{10})$ représentent les erreurs attendues par hasard.\n",
    "\n",
    "---\n",
    "\n",
    "##### 3. Approximation du Kappa Score\n",
    "\n",
    "Le Kappa Score est défini comme une mesure normalisée comparant les accords observés $\\mathbf{O}$ et les accords attendus $\\mathbf{E}$ :\n",
    "\n",
    "$$\n",
    "\\kappa = \\frac{\\text{trace}(\\mathbf{O}) - \\text{trace}(\\mathbf{E})}{1 - \\text{trace}(\\mathbf{E}) + \\epsilon}\n",
    "$$\n",
    "\n",
    "Dans le cas binaire, cela devient :\n",
    "\n",
    "$$\n",
    "\\kappa = \\frac{O_{00} + O_{11} - (E_{00} + E_{11})}{1 - (E_{00} + E_{11}) + \\epsilon}\n",
    "$$\n",
    "\n",
    "avec :\n",
    "- $\\text{trace}(\\mathbf{O}) = O_{00} + O_{11}$, représentant les accords exacts entre classes,\n",
    "- $\\text{trace}(\\mathbf{E}) = E_{00} + E_{11}$, représentant les accords attendus entre classes.\n",
    "\n",
    "---\n",
    "\n",
    "##### Cas particuliers pour le Kappa Score\n",
    "\n",
    "1. **Prédictions parfaites :**\n",
    "   Si le modèle prédit correctement toutes les classes :\n",
    "\n",
    "   $$\n",
    "   \\text{trace}(\\mathbf{O}) = 1 \\quad \\text{et} \\quad \\text{trace}(\\mathbf{E}) \\approx 0 \\implies \\kappa \\approx 1\n",
    "   $$\n",
    "\n",
    "   Cela signifie que le modèle est parfaitement en accord avec les labels réels.\n",
    "\n",
    "2. **Prédictions aléatoires :**\n",
    "   Si les prédictions sont indépendantes des labels réels :\n",
    "\n",
    "   $$\n",
    "   \\text{trace}(\\mathbf{O}) \\approx \\text{trace}(\\mathbf{E}) \\implies \\kappa \\approx 0\n",
    "   $$\n",
    "\n",
    "   Cela indique que le modèle ne fait pas mieux qu'un tirage aléatoire.\n",
    "\n",
    "3. **Prédictions pires que le hasard :**\n",
    "   Si le modèle prédit systématiquement de manière opposée aux labels réels :\n",
    "\n",
    "   $$\n",
    "   \\text{trace}(\\mathbf{O}) < \\text{trace}(\\mathbf{E}) \\implies \\kappa < 0\n",
    "   $$\n",
    "\n",
    "   Cela reflète un modèle contre-productif.\n",
    "\n",
    "---\n",
    "\n",
    "##### 4. Combinaison avec la Cross Entropy Loss\n",
    "\n",
    "La fonction de perte combinée utilise le Kappa Score et l'entropie croisée :\n",
    "\n",
    "$$\n",
    "\\mathcal{L}_{\\text{combined}} = \\alpha \\cdot \\mathcal{L}_{CE} + (1 - \\alpha) \\cdot (1 - \\kappa)\n",
    "$$\n",
    "\n",
    "où :\n",
    "- $\\mathcal{L}_{CE}$ est la **Binary Cross Entropy Loss** donnée par :\n",
    "  $$\n",
    "  \\mathcal{L}_{CE} = -\\frac{1}{n} \\sum_{k=1}^{n} \\left[ y_k \\log(p_k) + (1 - y_k) \\log(1 - p_k) \\right]\n",
    "  $$\n",
    "- $(1 - \\kappa)$ est une pénalité basée sur le Kappa Score, qui diminue à mesure que $\\kappa$ augmente.\n",
    "\n",
    "---\n"
   ]
  },
  {
   "cell_type": "code",
   "execution_count": 10,
   "metadata": {
    "executionInfo": {
     "elapsed": 5,
     "status": "ok",
     "timestamp": 1736446004100,
     "user": {
      "displayName": "Raphaël FAURE",
      "userId": "04881643138100346385"
     },
     "user_tz": -60
    },
    "id": "YxZ3xnP1DJPL"
   },
   "outputs": [],
   "source": [
    "class CombinedKappaCrossEntropyLoss(nn.Module):\n",
    "    def __init__(self, num_classes=2, alpha=0.2, class_weights=None, epsilon=1e-7):\n",
    "        \"\"\"\n",
    "        Combinaison de CrossEntropyLoss et Kappa Loss.\n",
    "\n",
    "        Parameters:\n",
    "        - num_classes (int): Nombre de classes.\n",
    "        - alpha (float): Pondération entre CrossEntropy et Kappa Loss.\n",
    "        - class_weights (torch.Tensor, optional): Poids des classes.\n",
    "        - epsilon (float): Constante pour éviter les divisions par zéro.\n",
    "        \"\"\"\n",
    "        super(CombinedKappaCrossEntropyLoss, self).__init__()\n",
    "        self.alpha = alpha\n",
    "        self.num_classes = num_classes\n",
    "        self.epsilon = epsilon\n",
    "        self.class_weights = class_weights\n",
    "\n",
    "    def forward(self, logits, targets):\n",
    "        # Déplacer les poids des classes sur le bon appareil\n",
    "        device = logits.device\n",
    "        if self.class_weights is not None:\n",
    "            class_weights = self.class_weights.to(device)\n",
    "        else:\n",
    "            class_weights = torch.ones(self.num_classes).to(device)\n",
    "\n",
    "        # CrossEntropy Loss\n",
    "        cross_entropy = nn.CrossEntropyLoss(weight=class_weights)\n",
    "        ce_loss = cross_entropy(logits, targets)\n",
    "\n",
    "        # Kappa Loss\n",
    "        probs = torch.softmax(logits, dim=1)\n",
    "        targets_one_hot = torch.nn.functional.one_hot(targets, num_classes=self.num_classes).float().to(device)\n",
    "\n",
    "        observed = torch.matmul(targets_one_hot.T, probs)  # Matrice de confusion probabiliste\n",
    "        weighted_observed = observed\n",
    "        row_sum = weighted_observed.sum(dim=1, keepdim=True)\n",
    "        col_sum = weighted_observed.sum(dim=0, keepdim=True)\n",
    "        total = weighted_observed.sum()\n",
    "\n",
    "        expected = torch.matmul(row_sum, col_sum) / total\n",
    "        observed = weighted_observed / total\n",
    "        expected = expected / total\n",
    "\n",
    "        kappa = (observed.trace() - expected.trace()) / (1 - expected.trace() + self.epsilon)\n",
    "        kappa_loss = 1 - kappa\n",
    "\n",
    "        # Combinaison des deux pertes\n",
    "        combined_loss =  self.alpha*ce_loss + (1-self.alpha )* kappa_loss\n",
    "        return combined_loss\n",
    "\n"
   ]
  },
  {
   "cell_type": "markdown",
   "metadata": {
    "id": "p8I3dCi_DJPN"
   },
   "source": [
    "## Résultats et optimisations"
   ]
  },
  {
   "cell_type": "markdown",
   "metadata": {
    "id": "kR9iS43uDJPN"
   },
   "source": [
    "### Chargement des données"
   ]
  },
  {
   "cell_type": "markdown",
   "metadata": {
    "id": "ZqpswJA4DJPO"
   },
   "source": [
    "Le seed est fixé à 42 et les batchs de taille 64 se sont avérés être les plus adaptés au problème"
   ]
  },
  {
   "cell_type": "code",
   "execution_count": 11,
   "metadata": {
    "colab": {
     "base_uri": "https://localhost:8080/"
    },
    "executionInfo": {
     "elapsed": 40169,
     "status": "ok",
     "timestamp": 1736446067217,
     "user": {
      "displayName": "Raphaël FAURE",
      "userId": "04881643138100346385"
     },
     "user_tz": -60
    },
    "id": "G_VMwwwXDJPO",
    "outputId": "f41b2587-5739-400d-e2b1-004d651a85e3"
   },
   "outputs": [
    {
     "name": "stdout",
     "output_type": "stream",
     "text": [
      "\n",
      "Recording 0\n",
      "Data shape (5, 7712740) (5, 15425)\n",
      "Data duration: 30850.96\n",
      "Labels duration 30850\n",
      "\n",
      "Recording 1\n",
      "Data shape (5, 5232364) (5, 10464)\n",
      "Data duration: 20929.456\n",
      "Labels duration 20928\n",
      "\n",
      "Recording 2\n",
      "Data shape (5, 6421756) (5, 12843)\n",
      "Data duration: 25687.024\n",
      "Labels duration 25686\n",
      "\n",
      "Recording 3\n",
      "Data shape (5, 6809761) (5, 13619)\n",
      "Data duration: 27239.044\n",
      "Labels duration 27238\n"
     ]
    }
   ],
   "source": [
    "signal_files = [r\"train\\data_0.npy\", r\"train\\data_1.npy\", r\"train\\data_2.npy\",r\"train\\data_3.npy\"]  # Exemple de fichiers\n",
    "target_files = [r\"train\\target_0.npy\", r\"train\\target_1.npy\",r\"train\\target_2.npy\", r\"train\\target_3.npy\"]\n",
    "dataset = EEGDataset_train(signal_files, target_files)"
   ]
  },
  {
   "cell_type": "code",
   "execution_count": 88,
   "metadata": {
    "executionInfo": {
     "elapsed": 7,
     "status": "ok",
     "timestamp": 1736446067217,
     "user": {
      "displayName": "Raphaël FAURE",
      "userId": "04881643138100346385"
     },
     "user_tz": -60
    },
    "id": "N2p-LqZuDJPR"
   },
   "outputs": [],
   "source": [
    "# Diviser en train/test\n",
    "train_set, test_set = dataset.train_test_split(tau=0.8, random_seed=42)\n",
    "# Charger les données\n",
    "train_loader = DataLoader(train_set, batch_size=64, shuffle=True)\n",
    "test_loader = DataLoader(test_set, batch_size=64, shuffle=True)\n",
    "# Initialiser le modèle\n",
    "device = \"cuda\" if torch.cuda.is_available() else \"cpu\""
   ]
  },
  {
   "cell_type": "code",
   "execution_count": 14,
   "metadata": {
    "executionInfo": {
     "elapsed": 698,
     "status": "ok",
     "timestamp": 1736446067911,
     "user": {
      "displayName": "Raphaël FAURE",
      "userId": "04881643138100346385"
     },
     "user_tz": -60
    },
    "id": "Vn49ZhldDJPT"
   },
   "outputs": [],
   "source": [
    "from sklearn.utils.class_weight import compute_class_weight\n",
    "\n",
    "# Calculer les poids pour les classes\n",
    "class_weights = compute_class_weight('balanced', classes=np.array([0, 1]), y=dataset.targets)  # y_train : labels d'entraînement\n",
    "class_weights = torch.tensor(class_weights, dtype=torch.float).to(device)"
   ]
  },
  {
   "cell_type": "code",
   "execution_count": 36,
   "metadata": {
    "colab": {
     "base_uri": "https://localhost:8080/"
    },
    "executionInfo": {
     "elapsed": 5,
     "status": "ok",
     "timestamp": 1736446067911,
     "user": {
      "displayName": "Raphaël FAURE",
      "userId": "04881643138100346385"
     },
     "user_tz": -60
    },
    "id": "0rgvz4N5DJPT",
    "outputId": "0625cdcc-7121-4c37-fad8-6555a36e21d1"
   },
   "outputs": [
    {
     "data": {
      "text/plain": [
       "tensor([1.2430, 0.8365], device='cuda:0')"
      ]
     },
     "execution_count": 36,
     "metadata": {},
     "output_type": "execute_result"
    }
   ],
   "source": [
    "class_weights"
   ]
  },
  {
   "cell_type": "markdown",
   "metadata": {},
   "source": [
    "On note le désquilibre des classes mentionné précédemment."
   ]
  },
  {
   "cell_type": "markdown",
   "metadata": {
    "id": "T9CaVb-kDJPU"
   },
   "source": [
    "### Modèle"
   ]
  },
  {
   "cell_type": "code",
   "execution_count": null,
   "metadata": {
    "colab": {
     "base_uri": "https://localhost:8080/"
    },
    "executionInfo": {
     "elapsed": 352062,
     "status": "ok",
     "timestamp": 1736442709644,
     "user": {
      "displayName": "Raphaël FAURE",
      "userId": "04881643138100346385"
     },
     "user_tz": -60
    },
    "id": "XD49RaLPDJPU",
    "outputId": "08897e19-52fc-4999-a427-81dfdc4ebef4"
   },
   "outputs": [],
   "source": [
    "# Initialiser le modèle avec les hyperparamètres proposés\n",
    "model_cnn = TemporalCNN()\n",
    "model_ = model_cnn\n",
    "class_weights = torch.tensor(class_weights).to(device)\n",
    "model_.to(device)\n",
    "criterion = CombinedKappaCrossEntropyLoss(alpha=0.2,class_weights=class_weights)\n",
    "optimizer = optim.Adam(model_.parameters(), lr=0.001)\n",
    "m=40\n",
    "model_.train()\n",
    "step_loss = []\n",
    "for epoch in range(m):\n",
    "    train_loss = 0.0\n",
    "    for x_batch, y_batch in train_loader:\n",
    "        x_batch, y_batch = x_batch.to(device), y_batch.to(device)\n",
    "        optimizer.zero_grad()\n",
    "        x_batch = x_batch.float()\n",
    "        outputs = model_(x_batch)\n",
    "        loss = criterion(outputs, y_batch)\n",
    "        loss.backward()\n",
    "        optimizer.step()\n",
    "        train_loss += loss.item()\n",
    "    step_loss.append(train_loss)\n",
    "    print(f\"Epoch {epoch+1}/{m}, Loss: {train_loss/len(train_loader):.4f}\")"
   ]
  },
  {
   "cell_type": "code",
   "execution_count": null,
   "metadata": {
    "colab": {
     "base_uri": "https://localhost:8080/",
     "height": 472
    },
    "executionInfo": {
     "elapsed": 598,
     "status": "ok",
     "timestamp": 1736444853152,
     "user": {
      "displayName": "Raphaël FAURE",
      "userId": "04881643138100346385"
     },
     "user_tz": -60
    },
    "id": "MaQzCA7uDJPV",
    "outputId": "d17d9844-50a3-4492-f253-2e515e3e44b3"
   },
   "outputs": [
    {
     "data": {
      "image/png": "[encoded data removed]",
      "text/plain": [
       "<Figure size 640x480 with 1 Axes>"
      ]
     },
     "metadata": {},
     "output_type": "display_data"
    }
   ],
   "source": [
    "plt.plot([k for k in range(m)], step_loss, label='Loss')  \n",
    "plt.xlabel('Steps')\n",
    "plt.ylabel('Loss')\n",
    "plt.legend() \n",
    "plt.grid()\n",
    "plt.title('Loss per step')\n",
    "plt.show()"
   ]
  },
  {
   "cell_type": "markdown",
   "metadata": {},
   "source": [
    "On obtient une courbe d'apprentissage satisfaisante avec une convergence en 25-30 steps."
   ]
  },
  {
   "cell_type": "markdown",
   "metadata": {},
   "source": [
    "### Evaluation "
   ]
  },
  {
   "cell_type": "code",
   "execution_count": 92,
   "metadata": {},
   "outputs": [],
   "source": [
    "from sklearn.metrics import accuracy_score, precision_score, recall_score, f1_score, cohen_kappa_score\n",
    "\n",
    "def eval_trainset(model=model_):\n",
    "\n",
    "    # Évaluation des métriques\n",
    "    model.eval()\n",
    "    y_true = []\n",
    "    y_pred = []\n",
    "    with torch.no_grad():\n",
    "        for x_batch, y_batch in train_loader:\n",
    "            x_batch, y_batch = x_batch.to(device), y_batch.to(device)\n",
    "            x_batch = x_batch.float()\n",
    "            outputs = model(x_batch)\n",
    "            _, preds = torch.max(outputs, 1)\n",
    "            y_true.extend(y_batch.cpu().numpy())\n",
    "            y_pred.extend(preds.cpu().numpy())\n",
    "    # Calcul des métriques\n",
    "    y_true = np.array(y_true)\n",
    "    y_pred = np.array(y_pred)\n",
    "    accuracy = accuracy_score(y_true, y_pred)\n",
    "    precision = precision_score(y_true, y_pred)\n",
    "    recall = recall_score(y_true, y_pred)\n",
    "    f1 = f1_score(y_true, y_pred)\n",
    "    kappa = cohen_kappa_score(y_true, y_pred)\n",
    "\n",
    "    print(f\"Accuracy: {accuracy:}\")\n",
    "    print(f\"Precision: {precision:}\")\n",
    "    print(f\"Recall: {recall:}\")\n",
    "    print(f\"F1 Score: {f1:}\")\n",
    "    print(f\"Kappa Score: {kappa:}\")\n",
    "\n",
    "def eval_testset(model=model_):\n",
    "    # Évaluation des performances (accuracy ici)\n",
    "    model.eval()\n",
    "    correct = 0\n",
    "    total = 0\n",
    "    y_true = []\n",
    "    y_pred = []\n",
    "    with torch.no_grad():\n",
    "        for x_batch, y_batch in test_loader:\n",
    "            x_batch, y_batch = x_batch.to(device), y_batch.to(device)\n",
    "            x_batch = x_batch.float()\n",
    "            outputs = model(x_batch)\n",
    "            _, predicted = torch.max(outputs, 1)\n",
    "            #predicted = (predicted >= 0.001).long()\n",
    "            correct += (predicted == y_batch).sum().item()\n",
    "            total += y_batch.size(0)\n",
    "            y_true.extend(y_batch.cpu().numpy())\n",
    "            y_pred.extend(predicted.cpu().numpy())\n",
    "            \n",
    "    y_true = np.array(y_true)\n",
    "    y_pred = np.array(y_pred)\n",
    "    accuracy = accuracy_score(y_true, y_pred)\n",
    "    precision = precision_score(y_true, y_pred)\n",
    "    recall = recall_score(y_true, y_pred)\n",
    "    f1 = f1_score(y_true, y_pred)\n",
    "    kappa = cohen_kappa_score(y_true, y_pred)\n",
    "    print(f\"Accuracy: {accuracy:.4f}\")\n",
    "    print(f\"Precision: {precision:.4f}\")\n",
    "    print(f\"Recall: {recall:.4f}\")\n",
    "    print(f\"F1 Score: {f1:.4f}\")\n",
    "    print(f\"Kappa Score: {kappa:.4f}\")"
   ]
  },
  {
   "cell_type": "code",
   "execution_count": 131,
   "metadata": {},
   "outputs": [
    {
     "name": "stdout",
     "output_type": "stream",
     "text": [
      "Resultats train set\n",
      "Accuracy: 0.8673091249450823\n",
      "Precision: 0.8249202727406162\n",
      "Recall: 0.9876665495095377\n",
      "F1 Score: 0.8989871816311247\n",
      "Kappa Score: 0.7101437049886167\n",
      "Resultats test set\n",
      "Accuracy: 0.8669\n",
      "Precision: 0.8244\n",
      "Recall: 0.9876\n",
      "F1 Score: 0.8986\n",
      "Kappa Score: 0.7094\n"
     ]
    }
   ],
   "source": [
    "print('Resultats train set')\n",
    "eval_trainset()\n",
    "print('Resultats test set')\n",
    "eval_testset()"
   ]
  },
  {
   "cell_type": "markdown",
   "metadata": {},
   "source": [
    "### Ajout du XGB"
   ]
  },
  {
   "cell_type": "markdown",
   "metadata": {},
   "source": [
    "Même si nous avons un CNN assez performant, nous n'arrivions pas néanmoins à améliorer ses résultats. Pour ça nous avons ajouté un XGB en sortie de la dernière couche du modèle (avant le pooling). L'idée est de donner les features obtenues par le CNN au XGB afin qu'il s'entraîne à son tour dessus."
   ]
  },
  {
   "cell_type": "code",
   "execution_count": 133,
   "metadata": {
    "colab": {
     "base_uri": "https://localhost:8080/"
    },
    "executionInfo": {
     "elapsed": 36380,
     "status": "ok",
     "timestamp": 1736444838899,
     "user": {
      "displayName": "Raphaël FAURE",
      "userId": "04881643138100346385"
     },
     "user_tz": -60
    },
    "id": "Zst2o6NBB3Qq",
    "outputId": "f99285ef-87ee-472c-f9b2-66ae510bc82f"
   },
   "outputs": [],
   "source": [
    "# 2. Extraire les caractéristiques du CNN\n",
    "model_.eval()\n",
    "features_train = []\n",
    "labels_train = []\n",
    "\n",
    "with torch.no_grad():\n",
    "    for x_batch, y_batch in train_loader:\n",
    "        x_batch = x_batch.to(device)\n",
    "        \n",
    "        # Sortie des caractéristiques du CNN\n",
    "        features_cnn = model_(x_batch.float()).cpu().numpy()\n",
    "        \n",
    "        # Ajouter les caractéristiques du CNN directement\n",
    "        features_train.append(features_cnn)\n",
    "        labels_train.append(y_batch.cpu().numpy())\n",
    "\n",
    "# Rassembler les caractéristiques et les labels\n",
    "features_train = np.vstack(features_train)\n",
    "labels_train = np.hstack(labels_train)\n"
   ]
  },
  {
   "cell_type": "code",
   "execution_count": null,
   "metadata": {},
   "outputs": [
    {
     "data": {
      "text/html": [
       "<style>#sk-container-id-4 {\n",
       "  /* Definition of color scheme common for light and dark mode */\n",
       "  --sklearn-color-text: black;\n",
       "  --sklearn-color-line: gray;\n",
       "  /* Definition of color scheme for unfitted estimators */\n",
       "  --sklearn-color-unfitted-level-0: #fff5e6;\n",
       "  --sklearn-color-unfitted-level-1: #f6e4d2;\n",
       "  --sklearn-color-unfitted-level-2: #ffe0b3;\n",
       "  --sklearn-color-unfitted-level-3: chocolate;\n",
       "  /* Definition of color scheme for fitted estimators */\n",
       "  --sklearn-color-fitted-level-0: #f0f8ff;\n",
       "  --sklearn-color-fitted-level-1: #d4ebff;\n",
       "  --sklearn-color-fitted-level-2: #b3dbfd;\n",
       "  --sklearn-color-fitted-level-3: cornflowerblue;\n",
       "\n",
       "  /* Specific color for light theme */\n",
       "  --sklearn-color-text-on-default-background: var(--sg-text-color, var(--theme-code-foreground, var(--jp-content-font-color1, black)));\n",
       "  --sklearn-color-background: var(--sg-background-color, var(--theme-background, var(--jp-layout-color0, white)));\n",
       "  --sklearn-color-border-box: var(--sg-text-color, var(--theme-code-foreground, var(--jp-content-font-color1, black)));\n",
       "  --sklearn-color-icon: #696969;\n",
       "\n",
       "  @media (prefers-color-scheme: dark) {\n",
       "    /* Redefinition of color scheme for dark theme */\n",
       "    --sklearn-color-text-on-default-background: var(--sg-text-color, var(--theme-code-foreground, var(--jp-content-font-color1, white)));\n",
       "    --sklearn-color-background: var(--sg-background-color, var(--theme-background, var(--jp-layout-color0, #111)));\n",
       "    --sklearn-color-border-box: var(--sg-text-color, var(--theme-code-foreground, var(--jp-content-font-color1, white)));\n",
       "    --sklearn-color-icon: #878787;\n",
       "  }\n",
       "}\n",
       "\n",
       "#sk-container-id-4 {\n",
       "  color: var(--sklearn-color-text);\n",
       "}\n",
       "\n",
       "#sk-container-id-4 pre {\n",
       "  padding: 0;\n",
       "}\n",
       "\n",
       "#sk-container-id-4 input.sk-hidden--visually {\n",
       "  border: 0;\n",
       "  clip: rect(1px 1px 1px 1px);\n",
       "  clip: rect(1px, 1px, 1px, 1px);\n",
       "  height: 1px;\n",
       "  margin: -1px;\n",
       "  overflow: hidden;\n",
       "  padding: 0;\n",
       "  position: absolute;\n",
       "  width: 1px;\n",
       "}\n",
       "\n",
       "#sk-container-id-4 div.sk-dashed-wrapped {\n",
       "  border: 1px dashed var(--sklearn-color-line);\n",
       "  margin: 0 0.4em 0.5em 0.4em;\n",
       "  box-sizing: border-box;\n",
       "  padding-bottom: 0.4em;\n",
       "  background-color: var(--sklearn-color-background);\n",
       "}\n",
       "\n",
       "#sk-container-id-4 div.sk-container {\n",
       "  /* jupyter's `normalize.less` sets `[hidden] { display: none; }`\n",
       "     but bootstrap.min.css set `[hidden] { display: none !important; }`\n",
       "     so we also need the `!important` here to be able to override the\n",
       "     default hidden behavior on the sphinx rendered scikit-learn.org.\n",
       "     See: https://github.com/scikit-learn/scikit-learn/issues/21755 */\n",
       "  display: inline-block !important;\n",
       "  position: relative;\n",
       "}\n",
       "\n",
       "#sk-container-id-4 div.sk-text-repr-fallback {\n",
       "  display: none;\n",
       "}\n",
       "\n",
       "div.sk-parallel-item,\n",
       "div.sk-serial,\n",
       "div.sk-item {\n",
       "  /* draw centered vertical line to link estimators */\n",
       "  background-image: linear-gradient(var(--sklearn-color-text-on-default-background), var(--sklearn-color-text-on-default-background));\n",
       "  background-size: 2px 100%;\n",
       "  background-repeat: no-repeat;\n",
       "  background-position: center center;\n",
       "}\n",
       "\n",
       "/* Parallel-specific style estimator block */\n",
       "\n",
       "#sk-container-id-4 div.sk-parallel-item::after {\n",
       "  content: \"\";\n",
       "  width: 100%;\n",
       "  border-bottom: 2px solid var(--sklearn-color-text-on-default-background);\n",
       "  flex-grow: 1;\n",
       "}\n",
       "\n",
       "#sk-container-id-4 div.sk-parallel {\n",
       "  display: flex;\n",
       "  align-items: stretch;\n",
       "  justify-content: center;\n",
       "  background-color: var(--sklearn-color-background);\n",
       "  position: relative;\n",
       "}\n",
       "\n",
       "#sk-container-id-4 div.sk-parallel-item {\n",
       "  display: flex;\n",
       "  flex-direction: column;\n",
       "}\n",
       "\n",
       "#sk-container-id-4 div.sk-parallel-item:first-child::after {\n",
       "  align-self: flex-end;\n",
       "  width: 50%;\n",
       "}\n",
       "\n",
       "#sk-container-id-4 div.sk-parallel-item:last-child::after {\n",
       "  align-self: flex-start;\n",
       "  width: 50%;\n",
       "}\n",
       "\n",
       "#sk-container-id-4 div.sk-parallel-item:only-child::after {\n",
       "  width: 0;\n",
       "}\n",
       "\n",
       "/* Serial-specific style estimator block */\n",
       "\n",
       "#sk-container-id-4 div.sk-serial {\n",
       "  display: flex;\n",
       "  flex-direction: column;\n",
       "  align-items: center;\n",
       "  background-color: var(--sklearn-color-background);\n",
       "  padding-right: 1em;\n",
       "  padding-left: 1em;\n",
       "}\n",
       "\n",
       "\n",
       "/* Toggleable style: style used for estimator/Pipeline/ColumnTransformer box that is\n",
       "clickable and can be expanded/collapsed.\n",
       "- Pipeline and ColumnTransformer use this feature and define the default style\n",
       "- Estimators will overwrite some part of the style using the `sk-estimator` class\n",
       "*/\n",
       "\n",
       "/* Pipeline and ColumnTransformer style (default) */\n",
       "\n",
       "#sk-container-id-4 div.sk-toggleable {\n",
       "  /* Default theme specific background. It is overwritten whether we have a\n",
       "  specific estimator or a Pipeline/ColumnTransformer */\n",
       "  background-color: var(--sklearn-color-background);\n",
       "}\n",
       "\n",
       "/* Toggleable label */\n",
       "#sk-container-id-4 label.sk-toggleable__label {\n",
       "  cursor: pointer;\n",
       "  display: block;\n",
       "  width: 100%;\n",
       "  margin-bottom: 0;\n",
       "  padding: 0.5em;\n",
       "  box-sizing: border-box;\n",
       "  text-align: center;\n",
       "}\n",
       "\n",
       "#sk-container-id-4 label.sk-toggleable__label-arrow:before {\n",
       "  /* Arrow on the left of the label */\n",
       "  content: \"▸\";\n",
       "  float: left;\n",
       "  margin-right: 0.25em;\n",
       "  color: var(--sklearn-color-icon);\n",
       "}\n",
       "\n",
       "#sk-container-id-4 label.sk-toggleable__label-arrow:hover:before {\n",
       "  color: var(--sklearn-color-text);\n",
       "}\n",
       "\n",
       "/* Toggleable content - dropdown */\n",
       "\n",
       "#sk-container-id-4 div.sk-toggleable__content {\n",
       "  max-height: 0;\n",
       "  max-width: 0;\n",
       "  overflow: hidden;\n",
       "  text-align: left;\n",
       "  /* unfitted */\n",
       "  background-color: var(--sklearn-color-unfitted-level-0);\n",
       "}\n",
       "\n",
       "#sk-container-id-4 div.sk-toggleable__content.fitted {\n",
       "  /* fitted */\n",
       "  background-color: var(--sklearn-color-fitted-level-0);\n",
       "}\n",
       "\n",
       "#sk-container-id-4 div.sk-toggleable__content pre {\n",
       "  margin: 0.2em;\n",
       "  border-radius: 0.25em;\n",
       "  color: var(--sklearn-color-text);\n",
       "  /* unfitted */\n",
       "  background-color: var(--sklearn-color-unfitted-level-0);\n",
       "}\n",
       "\n",
       "#sk-container-id-4 div.sk-toggleable__content.fitted pre {\n",
       "  /* unfitted */\n",
       "  background-color: var(--sklearn-color-fitted-level-0);\n",
       "}\n",
       "\n",
       "#sk-container-id-4 input.sk-toggleable__control:checked~div.sk-toggleable__content {\n",
       "  /* Expand drop-down */\n",
       "  max-height: 200px;\n",
       "  max-width: 100%;\n",
       "  overflow: auto;\n",
       "}\n",
       "\n",
       "#sk-container-id-4 input.sk-toggleable__control:checked~label.sk-toggleable__label-arrow:before {\n",
       "  content: \"▾\";\n",
       "}\n",
       "\n",
       "/* Pipeline/ColumnTransformer-specific style */\n",
       "\n",
       "#sk-container-id-4 div.sk-label input.sk-toggleable__control:checked~label.sk-toggleable__label {\n",
       "  color: var(--sklearn-color-text);\n",
       "  background-color: var(--sklearn-color-unfitted-level-2);\n",
       "}\n",
       "\n",
       "#sk-container-id-4 div.sk-label.fitted input.sk-toggleable__control:checked~label.sk-toggleable__label {\n",
       "  background-color: var(--sklearn-color-fitted-level-2);\n",
       "}\n",
       "\n",
       "/* Estimator-specific style */\n",
       "\n",
       "/* Colorize estimator box */\n",
       "#sk-container-id-4 div.sk-estimator input.sk-toggleable__control:checked~label.sk-toggleable__label {\n",
       "  /* unfitted */\n",
       "  background-color: var(--sklearn-color-unfitted-level-2);\n",
       "}\n",
       "\n",
       "#sk-container-id-4 div.sk-estimator.fitted input.sk-toggleable__control:checked~label.sk-toggleable__label {\n",
       "  /* fitted */\n",
       "  background-color: var(--sklearn-color-fitted-level-2);\n",
       "}\n",
       "\n",
       "#sk-container-id-4 div.sk-label label.sk-toggleable__label,\n",
       "#sk-container-id-4 div.sk-label label {\n",
       "  /* The background is the default theme color */\n",
       "  color: var(--sklearn-color-text-on-default-background);\n",
       "}\n",
       "\n",
       "/* On hover, darken the color of the background */\n",
       "#sk-container-id-4 div.sk-label:hover label.sk-toggleable__label {\n",
       "  color: var(--sklearn-color-text);\n",
       "  background-color: var(--sklearn-color-unfitted-level-2);\n",
       "}\n",
       "\n",
       "/* Label box, darken color on hover, fitted */\n",
       "#sk-container-id-4 div.sk-label.fitted:hover label.sk-toggleable__label.fitted {\n",
       "  color: var(--sklearn-color-text);\n",
       "  background-color: var(--sklearn-color-fitted-level-2);\n",
       "}\n",
       "\n",
       "/* Estimator label */\n",
       "\n",
       "#sk-container-id-4 div.sk-label label {\n",
       "  font-family: monospace;\n",
       "  font-weight: bold;\n",
       "  display: inline-block;\n",
       "  line-height: 1.2em;\n",
       "}\n",
       "\n",
       "#sk-container-id-4 div.sk-label-container {\n",
       "  text-align: center;\n",
       "}\n",
       "\n",
       "/* Estimator-specific */\n",
       "#sk-container-id-4 div.sk-estimator {\n",
       "  font-family: monospace;\n",
       "  border: 1px dotted var(--sklearn-color-border-box);\n",
       "  border-radius: 0.25em;\n",
       "  box-sizing: border-box;\n",
       "  margin-bottom: 0.5em;\n",
       "  /* unfitted */\n",
       "  background-color: var(--sklearn-color-unfitted-level-0);\n",
       "}\n",
       "\n",
       "#sk-container-id-4 div.sk-estimator.fitted {\n",
       "  /* fitted */\n",
       "  background-color: var(--sklearn-color-fitted-level-0);\n",
       "}\n",
       "\n",
       "/* on hover */\n",
       "#sk-container-id-4 div.sk-estimator:hover {\n",
       "  /* unfitted */\n",
       "  background-color: var(--sklearn-color-unfitted-level-2);\n",
       "}\n",
       "\n",
       "#sk-container-id-4 div.sk-estimator.fitted:hover {\n",
       "  /* fitted */\n",
       "  background-color: var(--sklearn-color-fitted-level-2);\n",
       "}\n",
       "\n",
       "/* Specification for estimator info (e.g. \"i\" and \"?\") */\n",
       "\n",
       "/* Common style for \"i\" and \"?\" */\n",
       "\n",
       ".sk-estimator-doc-link,\n",
       "a:link.sk-estimator-doc-link,\n",
       "a:visited.sk-estimator-doc-link {\n",
       "  float: right;\n",
       "  font-size: smaller;\n",
       "  line-height: 1em;\n",
       "  font-family: monospace;\n",
       "  background-color: var(--sklearn-color-background);\n",
       "  border-radius: 1em;\n",
       "  height: 1em;\n",
       "  width: 1em;\n",
       "  text-decoration: none !important;\n",
       "  margin-left: 1ex;\n",
       "  /* unfitted */\n",
       "  border: var(--sklearn-color-unfitted-level-1) 1pt solid;\n",
       "  color: var(--sklearn-color-unfitted-level-1);\n",
       "}\n",
       "\n",
       ".sk-estimator-doc-link.fitted,\n",
       "a:link.sk-estimator-doc-link.fitted,\n",
       "a:visited.sk-estimator-doc-link.fitted {\n",
       "  /* fitted */\n",
       "  border: var(--sklearn-color-fitted-level-1) 1pt solid;\n",
       "  color: var(--sklearn-color-fitted-level-1);\n",
       "}\n",
       "\n",
       "/* On hover */\n",
       "div.sk-estimator:hover .sk-estimator-doc-link:hover,\n",
       ".sk-estimator-doc-link:hover,\n",
       "div.sk-label-container:hover .sk-estimator-doc-link:hover,\n",
       ".sk-estimator-doc-link:hover {\n",
       "  /* unfitted */\n",
       "  background-color: var(--sklearn-color-unfitted-level-3);\n",
       "  color: var(--sklearn-color-background);\n",
       "  text-decoration: none;\n",
       "}\n",
       "\n",
       "div.sk-estimator.fitted:hover .sk-estimator-doc-link.fitted:hover,\n",
       ".sk-estimator-doc-link.fitted:hover,\n",
       "div.sk-label-container:hover .sk-estimator-doc-link.fitted:hover,\n",
       ".sk-estimator-doc-link.fitted:hover {\n",
       "  /* fitted */\n",
       "  background-color: var(--sklearn-color-fitted-level-3);\n",
       "  color: var(--sklearn-color-background);\n",
       "  text-decoration: none;\n",
       "}\n",
       "\n",
       "/* Span, style for the box shown on hovering the info icon */\n",
       ".sk-estimator-doc-link span {\n",
       "  display: none;\n",
       "  z-index: 9999;\n",
       "  position: relative;\n",
       "  font-weight: normal;\n",
       "  right: .2ex;\n",
       "  padding: .5ex;\n",
       "  margin: .5ex;\n",
       "  width: min-content;\n",
       "  min-width: 20ex;\n",
       "  max-width: 50ex;\n",
       "  color: var(--sklearn-color-text);\n",
       "  box-shadow: 2pt 2pt 4pt #999;\n",
       "  /* unfitted */\n",
       "  background: var(--sklearn-color-unfitted-level-0);\n",
       "  border: .5pt solid var(--sklearn-color-unfitted-level-3);\n",
       "}\n",
       "\n",
       ".sk-estimator-doc-link.fitted span {\n",
       "  /* fitted */\n",
       "  background: var(--sklearn-color-fitted-level-0);\n",
       "  border: var(--sklearn-color-fitted-level-3);\n",
       "}\n",
       "\n",
       ".sk-estimator-doc-link:hover span {\n",
       "  display: block;\n",
       "}\n",
       "\n",
       "/* \"?\"-specific style due to the `<a>` HTML tag */\n",
       "\n",
       "#sk-container-id-4 a.estimator_doc_link {\n",
       "  float: right;\n",
       "  font-size: 1rem;\n",
       "  line-height: 1em;\n",
       "  font-family: monospace;\n",
       "  background-color: var(--sklearn-color-background);\n",
       "  border-radius: 1rem;\n",
       "  height: 1rem;\n",
       "  width: 1rem;\n",
       "  text-decoration: none;\n",
       "  /* unfitted */\n",
       "  color: var(--sklearn-color-unfitted-level-1);\n",
       "  border: var(--sklearn-color-unfitted-level-1) 1pt solid;\n",
       "}\n",
       "\n",
       "#sk-container-id-4 a.estimator_doc_link.fitted {\n",
       "  /* fitted */\n",
       "  border: var(--sklearn-color-fitted-level-1) 1pt solid;\n",
       "  color: var(--sklearn-color-fitted-level-1);\n",
       "}\n",
       "\n",
       "/* On hover */\n",
       "#sk-container-id-4 a.estimator_doc_link:hover {\n",
       "  /* unfitted */\n",
       "  background-color: var(--sklearn-color-unfitted-level-3);\n",
       "  color: var(--sklearn-color-background);\n",
       "  text-decoration: none;\n",
       "}\n",
       "\n",
       "#sk-container-id-4 a.estimator_doc_link.fitted:hover {\n",
       "  /* fitted */\n",
       "  background-color: var(--sklearn-color-fitted-level-3);\n",
       "}\n",
       "</style><div id=\"sk-container-id-4\" class=\"sk-top-container\"><div class=\"sk-text-repr-fallback\"><pre>XGBClassifier(base_score=None, booster=None, callbacks=None,\n",
       "              colsample_bylevel=None, colsample_bynode=None,\n",
       "              colsample_bytree=None, device=None, early_stopping_rounds=None,\n",
       "              enable_categorical=False, eval_metric=&#x27;logloss&#x27;,\n",
       "              feature_types=None, gamma=None, grow_policy=None,\n",
       "              importance_type=None, interaction_constraints=None,\n",
       "              learning_rate=0.1, max_bin=None, max_cat_threshold=None,\n",
       "              max_cat_to_onehot=None, max_delta_step=None, max_depth=6,\n",
       "              max_leaves=None, min_child_weight=None, missing=nan,\n",
       "              monotone_constraints=None, multi_strategy=None, n_estimators=100,\n",
       "              n_jobs=None, num_parallel_tree=None, random_state=None, ...)</pre><b>In a Jupyter environment, please rerun this cell to show the HTML representation or trust the notebook. <br />On GitHub, the HTML representation is unable to render, please try loading this page with nbviewer.org.</b></div><div class=\"sk-container\" hidden><div class=\"sk-item\"><div class=\"sk-estimator fitted sk-toggleable\"><input class=\"sk-toggleable__control sk-hidden--visually\" id=\"sk-estimator-id-4\" type=\"checkbox\" checked><label for=\"sk-estimator-id-4\" class=\"sk-toggleable__label fitted sk-toggleable__label-arrow fitted\">&nbsp;XGBClassifier<span class=\"sk-estimator-doc-link fitted\">i<span>Fitted</span></span></label><div class=\"sk-toggleable__content fitted\"><pre>XGBClassifier(base_score=None, booster=None, callbacks=None,\n",
       "              colsample_bylevel=None, colsample_bynode=None,\n",
       "              colsample_bytree=None, device=None, early_stopping_rounds=None,\n",
       "              enable_categorical=False, eval_metric=&#x27;logloss&#x27;,\n",
       "              feature_types=None, gamma=None, grow_policy=None,\n",
       "              importance_type=None, interaction_constraints=None,\n",
       "              learning_rate=0.1, max_bin=None, max_cat_threshold=None,\n",
       "              max_cat_to_onehot=None, max_delta_step=None, max_depth=6,\n",
       "              max_leaves=None, min_child_weight=None, missing=nan,\n",
       "              monotone_constraints=None, multi_strategy=None, n_estimators=100,\n",
       "              n_jobs=None, num_parallel_tree=None, random_state=None, ...)</pre></div> </div></div></div></div>"
      ],
      "text/plain": [
       "XGBClassifier(base_score=None, booster=None, callbacks=None,\n",
       "              colsample_bylevel=None, colsample_bynode=None,\n",
       "              colsample_bytree=None, device=None, early_stopping_rounds=None,\n",
       "              enable_categorical=False, eval_metric='logloss',\n",
       "              feature_types=None, gamma=None, grow_policy=None,\n",
       "              importance_type=None, interaction_constraints=None,\n",
       "              learning_rate=0.1, max_bin=None, max_cat_threshold=None,\n",
       "              max_cat_to_onehot=None, max_delta_step=None, max_depth=6,\n",
       "              max_leaves=None, min_child_weight=None, missing=nan,\n",
       "              monotone_constraints=None, multi_strategy=None, n_estimators=100,\n",
       "              n_jobs=None, num_parallel_tree=None, random_state=None, ...)"
      ]
     },
     "execution_count": 95,
     "metadata": {},
     "output_type": "execute_result"
    }
   ],
   "source": [
    "from sklearn.metrics import accuracy_score, precision_score, recall_score, f1_score, cohen_kappa_score\n",
    "from xgboost import XGBClassifier\n",
    "\n",
    "# XGBoost Classifier\n",
    "xgb_ = XGBClassifier(n_estimators=100, max_depth=6, learning_rate=0.1, use_label_encoder=False, eval_metric=\"logloss\")\n",
    "xgb_.fit(features_train, labels_train)"
   ]
  },
  {
   "cell_type": "code",
   "execution_count": 134,
   "metadata": {},
   "outputs": [
    {
     "name": "stdout",
     "output_type": "stream",
     "text": [
      "Precision: 0.9195488953166349\n",
      "Recall: 0.9548359267661437\n",
      "F1 Score: 0.9368602555059173\n",
      "Kappa Score: 0.8384822738838669\n",
      "Accuracy: 0.9231\n"
     ]
    }
   ],
   "source": [
    "predictions = xgb_.predict(features_train)\n",
    "accuracy = accuracy_score(labels_train, predictions)\n",
    "precision = precision_score(labels_train, predictions)\n",
    "recall = recall_score(labels_train, predictions)\n",
    "f1 = f1_score(labels_train, predictions)\n",
    "kappa = cohen_kappa_score(labels_train, predictions)\n",
    "print(f\"Precision: {precision:}\")\n",
    "print(f\"Recall: {recall:}\")\n",
    "print(f\"F1 Score: {f1:}\")\n",
    "print(f\"Kappa Score: {kappa:}\")\n",
    "print(f\"Accuracy: {accuracy:.4f}\")"
   ]
  },
  {
   "cell_type": "code",
   "execution_count": 135,
   "metadata": {},
   "outputs": [
    {
     "name": "stdout",
     "output_type": "stream",
     "text": [
      "XGBoost Results:\n",
      "Accuracy: 0.9216\n",
      "F1 Score: 0.9356\n",
      "Kappa Score: 0.8356\n",
      "Recall: 0.9528\n",
      "Precision: 0.9190\n"
     ]
    }
   ],
   "source": [
    "# Extraction des caractéristiques pour le test set\n",
    "features_test = []\n",
    "labels_test = []\n",
    "\n",
    "with torch.no_grad():\n",
    "    for x_batch, y_batch in test_loader:\n",
    "        x_batch = x_batch.to(device)\n",
    "        \n",
    "        # Sortie des caractéristiques du CNN\n",
    "        features_cnn = model_(x_batch.float()).cpu().numpy()\n",
    "      \n",
    "        features_test.append(features_cnn)\n",
    "        labels_test.append(y_batch.cpu().numpy())\n",
    "\n",
    "features_test = np.vstack(features_test)\n",
    "labels_test = np.hstack(labels_test)\n",
    "\n",
    "predictions_xgb = xgb_.predict(features_test)\n",
    "accuracy_xgb = accuracy_score(labels_test, predictions_xgb)\n",
    "f1_xgb = f1_score(labels_test, predictions_xgb)\n",
    "kappa_xgb = cohen_kappa_score(labels_test, predictions_xgb)\n",
    "recall_xbg = recall_score(labels_test, predictions_xgb)\n",
    "precision_xgb = precision_score(labels_test, predictions_xgb)\n",
    "print(f\"XGBoost Results:\")\n",
    "print(f\"Accuracy: {accuracy_xgb:.4f}\")\n",
    "print(f\"F1 Score: {f1_xgb:.4f}\")\n",
    "print(f\"Kappa Score: {kappa_xgb:.4f}\")\n",
    "print(f\"Recall: {recall_xbg:.4f}\")\n",
    "print(f\"Precision: {precision_xgb:.4f}\")\n"
   ]
  },
  {
   "cell_type": "markdown",
   "metadata": {},
   "source": [
    "Les résultats sur le test set sont similaires à ceux sur le train ce qui prouve une bonne généralisation du modèle."
   ]
  },
  {
   "cell_type": "markdown",
   "metadata": {},
   "source": [
    "Nous avons de plus essayé des méthodes d'ensemble learning mais malheureusement cela n'a pas donné de bon résultats. Des méthodes d'ajustement de seuil dynamique en sortie du CNN pour limiter le désequilibre des labels ont aussi été utilisées mais là encore ça n'a pas donné de résultats significatifs. Ces méthodes ne seront donc pas détaillées ici par souci de concision. Nous avons essayé aussi de mettre un Random Forest à la place du XGB mais les résultats étaient moins bons. L'ajout du XGB a finalement permis d'obtenir un score de 0.761."
   ]
  },
  {
   "cell_type": "markdown",
   "metadata": {
    "id": "LSdcs3A2DJPm"
   },
   "source": [
    "# Cross-validation et dimensionnement"
   ]
  },
  {
   "cell_type": "markdown",
   "metadata": {
    "id": "pof1s7VHDJPn"
   },
   "source": [
    "Un des principaux défis rencontrés dans ce projet réside dans la **cross-validation des hyperparamètres**, en raison de contraintes pratiques et méthodologiques. D'une part, les données étant déséquilibrées, chaque division du dataset peut générer des ensembles de train et de validation avec des distributions différentes, ce qui complique l'évaluation cohérente des performances. D'autre part, la cross-validation, particulièrement avec des modèles complexes comme les CNN, est extrêmement coûteuse en temps de calcul et en ressources, rendant difficile l'exploration approfondie de l'espace des hyperparamètres. Enfin, certaines métriques essentielles comme le **Kappa** ou des fonctions de perte personnalisées ne sont pas directement intégrées dans les frameworks classiques d'optimisation, ce qui limite la standardisation des approches et nécessite des ajustements spécifiques pour chaque scénario."
   ]
  },
  {
   "cell_type": "markdown",
   "metadata": {},
   "source": [
    "Nous avons cependant utilisé optuna pour faire une recherche cross_validée de la meilleure valeur d'alpha."
   ]
  },
  {
   "cell_type": "code",
   "execution_count": null,
   "metadata": {
    "id": "AoTQ15pYDJPn",
    "outputId": "ca824162-f023-4ddc-9c02-e44ce683c2cd"
   },
   "outputs": [
    {
     "name": "stderr",
     "output_type": "stream",
     "text": [
      "C:\\Users\\FX506\\AppData\\Local\\Packages\\PythonSoftwareFoundation.Python.3.11_qbz5n2kfra8p0\\LocalCache\\local-packages\\Python311\\site-packages\\tqdm\\auto.py:21: TqdmWarning: IProgress not found. Please update jupyter and ipywidgets. See https://ipywidgets.readthedocs.io/en/stable/user_install.html\n",
      "  from .autonotebook import tqdm as notebook_tqdm\n"
     ]
    }
   ],
   "source": [
    "import optuna\n",
    "import torch.optim as optim\n",
    "from torch.utils.data import DataLoader, Subset\n",
    "from sklearn.model_selection import KFold\n",
    "\n",
    "def objective(trial):\n",
    "    \"\"\"\n",
    "    Fonction d'objectif pour Optuna : maximise le Kappa Score.\n",
    "    \"\"\"\n",
    "    # Hyperparamètres à optimiser\n",
    "    alpha = trial.suggest_float(\"alpha\", 0.15, 0.25)\n",
    "    beta = trial.suggest_float(\"beta\", 1,10)\n",
    "    # Validation croisée\n",
    "    kf = KFold(n_splits=4, shuffle=True, random_state=42)\n",
    "    fold_kappa_scores = []\n",
    "\n",
    "    for train_idx, val_idx in kf.split(dataset):\n",
    "        # Diviser les données\n",
    "        train_subset = Subset(dataset, train_idx)\n",
    "        val_subset = Subset(dataset, val_idx)\n",
    "        train_loader = DataLoader(train_subset, batch_size=64, shuffle=True)\n",
    "        val_loader = DataLoader(val_subset, batch_size=64, shuffle=False)\n",
    "\n",
    "        # Initialiser le modèle\n",
    "        model = TemporalCNN(\n",
    "            ).to(device)\n",
    "\n",
    "        criterion = CombinedKappaCrossEntropyLoss(alpha=alpha, class_weights=class_weights)\n",
    "        optimizer = optim.Adam(model.parameters(), lr=0.001)\n",
    "\n",
    "        # Entraîner le modèle\n",
    "        model.train()\n",
    "        for epoch in range(3):\n",
    "            for x_batch, y_batch in train_loader:\n",
    "                x_batch, y_batch = x_batch.to(device), y_batch.to(device)\n",
    "                optimizer.zero_grad()\n",
    "                outputs = model(x_batch.float())\n",
    "                loss = criterion(outputs, y_batch)\n",
    "                loss.backward()\n",
    "                optimizer.step()\n",
    "        print(\"Finish\")\n",
    "        # Évaluer le modèle\n",
    "        model.eval()\n",
    "        y_true, y_pred = [], []\n",
    "        with torch.no_grad():\n",
    "            for x_batch, y_batch in val_loader:\n",
    "                x_batch, y_batch = x_batch.to(device), y_batch.to(device)\n",
    "                outputs = model(x_batch.float())\n",
    "                _, predicted = torch.max(outputs, 1)\n",
    "                #predicted = (predicted >= 0.001).long()\n",
    "                y_true.extend(y_batch.cpu().numpy())\n",
    "                y_pred.extend(predicted.cpu().numpy())\n",
    "        # Calcul des métriques\n",
    "        y_true = torch.tensor(y_true)\n",
    "        y_pred = torch.tensor(y_pred)\n",
    "        kappa = cohen_kappa_score(y_true, y_pred)\n",
    "        fold_kappa_scores.append(kappa)\n",
    "        # Afficher les résultats pour le trial actuel\n",
    "        # Moyenne des Kappa Scores sur les folds\n",
    "    mean_kappa = np.mean(fold_kappa_scores)\n",
    "\n",
    "    print(f\"Trial {trial.number}:\"\n",
    "        \" Alpha: {alpha:.2f}, Kappa: {mean_kappa:.4f}\")\n",
    "\n",
    "    # Retourner la moyenne des Kappa Scores sur les folds\n",
    "    return np.mean(fold_kappa_scores)\n"
   ]
  },
  {
   "cell_type": "code",
   "execution_count": null,
   "metadata": {
    "id": "R8xMCuYWDJPo",
    "outputId": "d2fbd0cc-b1e1-482a-9c33-cc18669ec803"
   },
   "outputs": [
    {
     "name": "stderr",
     "output_type": "stream",
     "text": [
      "[I 2025-01-08 14:37:25,329] A new study created in memory with name: no-name-53e663f3-7f0f-42b7-b70d-58d8751828fb\n"
     ]
    },
    {
     "name": "stdout",
     "output_type": "stream",
     "text": [
      "Finish\n",
      "Finish\n",
      "Finish\n",
      "Finish\n",
      "Finish\n",
      "Finish\n",
      "Finish\n"
     ]
    },
    {
     "name": "stderr",
     "output_type": "stream",
     "text": [
      "[I 2025-01-08 14:51:47,072] Trial 1 finished with value: 0.6673770783429046 and parameters: {'alpha': 0.1924086032126596}. Best is trial 1 with value: 0.6673770783429046.\n"
     ]
    },
    {
     "name": "stdout",
     "output_type": "stream",
     "text": [
      "Trial 1: Alpha: {alpha:.2f}, Kappa: {mean_kappa:.4f}\n",
      "Finish\n",
      "Finish\n"
     ]
    },
    {
     "name": "stderr",
     "output_type": "stream",
     "text": [
      "[I 2025-01-08 14:55:23,961] Trial 0 finished with value: 0.6552982890793027 and parameters: {'alpha': 0.18338357799440802}. Best is trial 1 with value: 0.6673770783429046.\n"
     ]
    },
    {
     "name": "stdout",
     "output_type": "stream",
     "text": [
      "Trial 0: Alpha: {alpha:.2f}, Kappa: {mean_kappa:.4f}\n",
      "Finish\n",
      "Finish\n",
      "Finish\n",
      "Finish\n"
     ]
    },
    {
     "name": "stderr",
     "output_type": "stream",
     "text": [
      "[I 2025-01-08 15:04:57,681] Trial 2 finished with value: 0.658949765593639 and parameters: {'alpha': 0.2123833789650465}. Best is trial 1 with value: 0.6673770783429046.\n"
     ]
    },
    {
     "name": "stdout",
     "output_type": "stream",
     "text": [
      "Trial 2: Alpha: {alpha:.2f}, Kappa: {mean_kappa:.4f}\n",
      "Finish\n",
      "Finish\n",
      "Finish\n",
      "Finish\n",
      "Finish\n"
     ]
    },
    {
     "name": "stderr",
     "output_type": "stream",
     "text": [
      "[I 2025-01-08 15:15:30,517] Trial 3 finished with value: 0.6260608221938162 and parameters: {'alpha': 0.22579440569852222}. Best is trial 1 with value: 0.6673770783429046.\n"
     ]
    },
    {
     "name": "stdout",
     "output_type": "stream",
     "text": [
      "Trial 3: Alpha: {alpha:.2f}, Kappa: {mean_kappa:.4f}\n",
      "Finish\n",
      "Finish\n"
     ]
    },
    {
     "name": "stderr",
     "output_type": "stream",
     "text": [
      "[I 2025-01-08 15:18:05,587] Trial 4 finished with value: 0.5980936762048192 and parameters: {'alpha': 0.2325785182575553}. Best is trial 1 with value: 0.6673770783429046.\n"
     ]
    },
    {
     "name": "stdout",
     "output_type": "stream",
     "text": [
      "Trial 4: Alpha: {alpha:.2f}, Kappa: {mean_kappa:.4f}\n",
      "Best hyperparameters: {'alpha': 0.1924086032126596}\n",
      "Best Kappa Score: 0.6673770783429046\n"
     ]
    },
    {
     "data": {
      "application/vnd.plotly.v1+json": {
       "config": {
        "plotlyServerURL": "https://plot.ly"
       },
       "data": [
        {
         "mode": "markers",
         "name": "Objective Value",
         "type": "scatter",
         "x": [
          0,
          1,
          2,
          3,
          4
         ],
         "y": [
          0.6552982890793027,
          0.6673770783429046,
          0.658949765593639,
          0.6260608221938162,
          0.5980936762048192
         ]
        },
        {
         "mode": "lines",
         "name": "Best Value",
         "type": "scatter",
         "x": [
          0,
          1,
          2,
          3,
          4
         ],
         "y": [
          0.6552982890793027,
          0.6673770783429046,
          0.6673770783429046,
          0.6673770783429046,
          0.6673770783429046
         ]
        },
        {
         "marker": {
          "color": "#cccccc"
         },
         "mode": "markers",
         "name": "Infeasible Trial",
         "showlegend": false,
         "type": "scatter",
         "x": [],
         "y": []
        }
       ],
       "layout": {
        "template": {
         "data": {
          "bar": [
           {
            "error_x": {
             "color": "#2a3f5f"
            },
            "error_y": {
             "color": "#2a3f5f"
            },
            "marker": {
             "line": {
              "color": "#E5ECF6",
              "width": 0.5
             },
             "pattern": {
              "fillmode": "overlay",
              "size": 10,
              "solidity": 0.2
             }
            },
            "type": "bar"
           }
          ],
          "barpolar": [
           {
            "marker": {
             "line": {
              "color": "#E5ECF6",
              "width": 0.5
             },
             "pattern": {
              "fillmode": "overlay",
              "size": 10,
              "solidity": 0.2
             }
            },
            "type": "barpolar"
           }
          ],
          "carpet": [
           {
            "aaxis": {
             "endlinecolor": "#2a3f5f",
             "gridcolor": "white",
             "linecolor": "white",
             "minorgridcolor": "white",
             "startlinecolor": "#2a3f5f"
            },
            "baxis": {
             "endlinecolor": "#2a3f5f",
             "gridcolor": "white",
             "linecolor": "white",
             "minorgridcolor": "white",
             "startlinecolor": "#2a3f5f"
            },
            "type": "carpet"
           }
          ],
          "choropleth": [
           {
            "colorbar": {
             "outlinewidth": 0,
             "ticks": ""
            },
            "type": "choropleth"
           }
          ],
          "contour": [
           {
            "colorbar": {
             "outlinewidth": 0,
             "ticks": ""
            },
            "colorscale": [
             [
              0,
              "#0d0887"
             ],
             [
              0.1111111111111111,
              "#46039f"
             ],
             [
              0.2222222222222222,
              "#7201a8"
             ],
             [
              0.3333333333333333,
              "#9c179e"
             ],
             [
              0.4444444444444444,
              "#bd3786"
             ],
             [
              0.5555555555555556,
              "#d8576b"
             ],
             [
              0.6666666666666666,
              "#ed7953"
             ],
             [
              0.7777777777777778,
              "#fb9f3a"
             ],
             [
              0.8888888888888888,
              "#fdca26"
             ],
             [
              1,
              "#f0f921"
             ]
            ],
            "type": "contour"
           }
          ],
          "contourcarpet": [
           {
            "colorbar": {
             "outlinewidth": 0,
             "ticks": ""
            },
            "type": "contourcarpet"
           }
          ],
          "heatmap": [
           {
            "colorbar": {
             "outlinewidth": 0,
             "ticks": ""
            },
            "colorscale": [
             [
              0,
              "#0d0887"
             ],
             [
              0.1111111111111111,
              "#46039f"
             ],
             [
              0.2222222222222222,
              "#7201a8"
             ],
             [
              0.3333333333333333,
              "#9c179e"
             ],
             [
              0.4444444444444444,
              "#bd3786"
             ],
             [
              0.5555555555555556,
              "#d8576b"
             ],
             [
              0.6666666666666666,
              "#ed7953"
             ],
             [
              0.7777777777777778,
              "#fb9f3a"
             ],
             [
              0.8888888888888888,
              "#fdca26"
             ],
             [
              1,
              "#f0f921"
             ]
            ],
            "type": "heatmap"
           }
          ],
          "heatmapgl": [
           {
            "colorbar": {
             "outlinewidth": 0,
             "ticks": ""
            },
            "colorscale": [
             [
              0,
              "#0d0887"
             ],
             [
              0.1111111111111111,
              "#46039f"
             ],
             [
              0.2222222222222222,
              "#7201a8"
             ],
             [
              0.3333333333333333,
              "#9c179e"
             ],
             [
              0.4444444444444444,
              "#bd3786"
             ],
             [
              0.5555555555555556,
              "#d8576b"
             ],
             [
              0.6666666666666666,
              "#ed7953"
             ],
             [
              0.7777777777777778,
              "#fb9f3a"
             ],
             [
              0.8888888888888888,
              "#fdca26"
             ],
             [
              1,
              "#f0f921"
             ]
            ],
            "type": "heatmapgl"
           }
          ],
          "histogram": [
           {
            "marker": {
             "pattern": {
              "fillmode": "overlay",
              "size": 10,
              "solidity": 0.2
             }
            },
            "type": "histogram"
           }
          ],
          "histogram2d": [
           {
            "colorbar": {
             "outlinewidth": 0,
             "ticks": ""
            },
            "colorscale": [
             [
              0,
              "#0d0887"
             ],
             [
              0.1111111111111111,
              "#46039f"
             ],
             [
              0.2222222222222222,
              "#7201a8"
             ],
             [
              0.3333333333333333,
              "#9c179e"
             ],
             [
              0.4444444444444444,
              "#bd3786"
             ],
             [
              0.5555555555555556,
              "#d8576b"
             ],
             [
              0.6666666666666666,
              "#ed7953"
             ],
             [
              0.7777777777777778,
              "#fb9f3a"
             ],
             [
              0.8888888888888888,
              "#fdca26"
             ],
             [
              1,
              "#f0f921"
             ]
            ],
            "type": "histogram2d"
           }
          ],
          "histogram2dcontour": [
           {
            "colorbar": {
             "outlinewidth": 0,
             "ticks": ""
            },
            "colorscale": [
             [
              0,
              "#0d0887"
             ],
             [
              0.1111111111111111,
              "#46039f"
             ],
             [
              0.2222222222222222,
              "#7201a8"
             ],
             [
              0.3333333333333333,
              "#9c179e"
             ],
             [
              0.4444444444444444,
              "#bd3786"
             ],
             [
              0.5555555555555556,
              "#d8576b"
             ],
             [
              0.6666666666666666,
              "#ed7953"
             ],
             [
              0.7777777777777778,
              "#fb9f3a"
             ],
             [
              0.8888888888888888,
              "#fdca26"
             ],
             [
              1,
              "#f0f921"
             ]
            ],
            "type": "histogram2dcontour"
           }
          ],
          "mesh3d": [
           {
            "colorbar": {
             "outlinewidth": 0,
             "ticks": ""
            },
            "type": "mesh3d"
           }
          ],
          "parcoords": [
           {
            "line": {
             "colorbar": {
              "outlinewidth": 0,
              "ticks": ""
             }
            },
            "type": "parcoords"
           }
          ],
          "pie": [
           {
            "automargin": true,
            "type": "pie"
           }
          ],
          "scatter": [
           {
            "fillpattern": {
             "fillmode": "overlay",
             "size": 10,
             "solidity": 0.2
            },
            "type": "scatter"
           }
          ],
          "scatter3d": [
           {
            "line": {
             "colorbar": {
              "outlinewidth": 0,
              "ticks": ""
             }
            },
            "marker": {
             "colorbar": {
              "outlinewidth": 0,
              "ticks": ""
             }
            },
            "type": "scatter3d"
           }
          ],
          "scattercarpet": [
           {
            "marker": {
             "colorbar": {
              "outlinewidth": 0,
              "ticks": ""
             }
            },
            "type": "scattercarpet"
           }
          ],
          "scattergeo": [
           {
            "marker": {
             "colorbar": {
              "outlinewidth": 0,
              "ticks": ""
             }
            },
            "type": "scattergeo"
           }
          ],
          "scattergl": [
           {
            "marker": {
             "colorbar": {
              "outlinewidth": 0,
              "ticks": ""
             }
            },
            "type": "scattergl"
           }
          ],
          "scattermapbox": [
           {
            "marker": {
             "colorbar": {
              "outlinewidth": 0,
              "ticks": ""
             }
            },
            "type": "scattermapbox"
           }
          ],
          "scatterpolar": [
           {
            "marker": {
             "colorbar": {
              "outlinewidth": 0,
              "ticks": ""
             }
            },
            "type": "scatterpolar"
           }
          ],
          "scatterpolargl": [
           {
            "marker": {
             "colorbar": {
              "outlinewidth": 0,
              "ticks": ""
             }
            },
            "type": "scatterpolargl"
           }
          ],
          "scatterternary": [
           {
            "marker": {
             "colorbar": {
              "outlinewidth": 0,
              "ticks": ""
             }
            },
            "type": "scatterternary"
           }
          ],
          "surface": [
           {
            "colorbar": {
             "outlinewidth": 0,
             "ticks": ""
            },
            "colorscale": [
             [
              0,
              "#0d0887"
             ],
             [
              0.1111111111111111,
              "#46039f"
             ],
             [
              0.2222222222222222,
              "#7201a8"
             ],
             [
              0.3333333333333333,
              "#9c179e"
             ],
             [
              0.4444444444444444,
              "#bd3786"
             ],
             [
              0.5555555555555556,
              "#d8576b"
             ],
             [
              0.6666666666666666,
              "#ed7953"
             ],
             [
              0.7777777777777778,
              "#fb9f3a"
             ],
             [
              0.8888888888888888,
              "#fdca26"
             ],
             [
              1,
              "#f0f921"
             ]
            ],
            "type": "surface"
           }
          ],
          "table": [
           {
            "cells": {
             "fill": {
              "color": "#EBF0F8"
             },
             "line": {
              "color": "white"
             }
            },
            "header": {
             "fill": {
              "color": "#C8D4E3"
             },
             "line": {
              "color": "white"
             }
            },
            "type": "table"
           }
          ]
         },
         "layout": {
          "annotationdefaults": {
           "arrowcolor": "#2a3f5f",
           "arrowhead": 0,
           "arrowwidth": 1
          },
          "autotypenumbers": "strict",
          "coloraxis": {
           "colorbar": {
            "outlinewidth": 0,
            "ticks": ""
           }
          },
          "colorscale": {
           "diverging": [
            [
             0,
             "#8e0152"
            ],
            [
             0.1,
             "#c51b7d"
            ],
            [
             0.2,
             "#de77ae"
            ],
            [
             0.3,
             "#f1b6da"
            ],
            [
             0.4,
             "#fde0ef"
            ],
            [
             0.5,
             "#f7f7f7"
            ],
            [
             0.6,
             "#e6f5d0"
            ],
            [
             0.7,
             "#b8e186"
            ],
            [
             0.8,
             "#7fbc41"
            ],
            [
             0.9,
             "#4d9221"
            ],
            [
             1,
             "#276419"
            ]
           ],
           "sequential": [
            [
             0,
             "#0d0887"
            ],
            [
             0.1111111111111111,
             "#46039f"
            ],
            [
             0.2222222222222222,
             "#7201a8"
            ],
            [
             0.3333333333333333,
             "#9c179e"
            ],
            [
             0.4444444444444444,
             "#bd3786"
            ],
            [
             0.5555555555555556,
             "#d8576b"
            ],
            [
             0.6666666666666666,
             "#ed7953"
            ],
            [
             0.7777777777777778,
             "#fb9f3a"
            ],
            [
             0.8888888888888888,
             "#fdca26"
            ],
            [
             1,
             "#f0f921"
            ]
           ],
           "sequentialminus": [
            [
             0,
             "#0d0887"
            ],
            [
             0.1111111111111111,
             "#46039f"
            ],
            [
             0.2222222222222222,
             "#7201a8"
            ],
            [
             0.3333333333333333,
             "#9c179e"
            ],
            [
             0.4444444444444444,
             "#bd3786"
            ],
            [
             0.5555555555555556,
             "#d8576b"
            ],
            [
             0.6666666666666666,
             "#ed7953"
            ],
            [
             0.7777777777777778,
             "#fb9f3a"
            ],
            [
             0.8888888888888888,
             "#fdca26"
            ],
            [
             1,
             "#f0f921"
            ]
           ]
          },
          "colorway": [
           "#636efa",
           "#EF553B",
           "#00cc96",
           "#ab63fa",
           "#FFA15A",
           "#19d3f3",
           "#FF6692",
           "#B6E880",
           "#FF97FF",
           "#FECB52"
          ],
          "font": {
           "color": "#2a3f5f"
          },
          "geo": {
           "bgcolor": "white",
           "lakecolor": "white",
           "landcolor": "#E5ECF6",
           "showlakes": true,
           "showland": true,
           "subunitcolor": "white"
          },
          "hoverlabel": {
           "align": "left"
          },
          "hovermode": "closest",
          "mapbox": {
           "style": "light"
          },
          "paper_bgcolor": "white",
          "plot_bgcolor": "#E5ECF6",
          "polar": {
           "angularaxis": {
            "gridcolor": "white",
            "linecolor": "white",
            "ticks": ""
           },
           "bgcolor": "#E5ECF6",
           "radialaxis": {
            "gridcolor": "white",
            "linecolor": "white",
            "ticks": ""
           }
          },
          "scene": {
           "xaxis": {
            "backgroundcolor": "#E5ECF6",
            "gridcolor": "white",
            "gridwidth": 2,
            "linecolor": "white",
            "showbackground": true,
            "ticks": "",
            "zerolinecolor": "white"
           },
           "yaxis": {
            "backgroundcolor": "#E5ECF6",
            "gridcolor": "white",
            "gridwidth": 2,
            "linecolor": "white",
            "showbackground": true,
            "ticks": "",
            "zerolinecolor": "white"
           },
           "zaxis": {
            "backgroundcolor": "#E5ECF6",
            "gridcolor": "white",
            "gridwidth": 2,
            "linecolor": "white",
            "showbackground": true,
            "ticks": "",
            "zerolinecolor": "white"
           }
          },
          "shapedefaults": {
           "line": {
            "color": "#2a3f5f"
           }
          },
          "ternary": {
           "aaxis": {
            "gridcolor": "white",
            "linecolor": "white",
            "ticks": ""
           },
           "baxis": {
            "gridcolor": "white",
            "linecolor": "white",
            "ticks": ""
           },
           "bgcolor": "#E5ECF6",
           "caxis": {
            "gridcolor": "white",
            "linecolor": "white",
            "ticks": ""
           }
          },
          "title": {
           "x": 0.05
          },
          "xaxis": {
           "automargin": true,
           "gridcolor": "white",
           "linecolor": "white",
           "ticks": "",
           "title": {
            "standoff": 15
           },
           "zerolinecolor": "white",
           "zerolinewidth": 2
          },
          "yaxis": {
           "automargin": true,
           "gridcolor": "white",
           "linecolor": "white",
           "ticks": "",
           "title": {
            "standoff": 15
           },
           "zerolinecolor": "white",
           "zerolinewidth": 2
          }
         }
        },
        "title": {
         "text": "Optimization History Plot"
        },
        "xaxis": {
         "title": {
          "text": "Trial"
         }
        },
        "yaxis": {
         "title": {
          "text": "Objective Value"
         }
        }
       }
      }
     },
     "metadata": {},
     "output_type": "display_data"
    },
    {
     "data": {
      "application/vnd.plotly.v1+json": {
       "config": {
        "plotlyServerURL": "https://plot.ly"
       },
       "data": [
        {
         "cliponaxis": false,
         "hovertemplate": [
          "alpha (FloatDistribution): 1.0<extra></extra>"
         ],
         "name": "Objective Value",
         "orientation": "h",
         "text": [
          "1.00"
         ],
         "textposition": "outside",
         "type": "bar",
         "x": [
          1
         ],
         "y": [
          "alpha"
         ]
        }
       ],
       "layout": {
        "template": {
         "data": {
          "bar": [
           {
            "error_x": {
             "color": "#2a3f5f"
            },
            "error_y": {
             "color": "#2a3f5f"
            },
            "marker": {
             "line": {
              "color": "#E5ECF6",
              "width": 0.5
             },
             "pattern": {
              "fillmode": "overlay",
              "size": 10,
              "solidity": 0.2
             }
            },
            "type": "bar"
           }
          ],
          "barpolar": [
           {
            "marker": {
             "line": {
              "color": "#E5ECF6",
              "width": 0.5
             },
             "pattern": {
              "fillmode": "overlay",
              "size": 10,
              "solidity": 0.2
             }
            },
            "type": "barpolar"
           }
          ],
          "carpet": [
           {
            "aaxis": {
             "endlinecolor": "#2a3f5f",
             "gridcolor": "white",
             "linecolor": "white",
             "minorgridcolor": "white",
             "startlinecolor": "#2a3f5f"
            },
            "baxis": {
             "endlinecolor": "#2a3f5f",
             "gridcolor": "white",
             "linecolor": "white",
             "minorgridcolor": "white",
             "startlinecolor": "#2a3f5f"
            },
            "type": "carpet"
           }
          ],
          "choropleth": [
           {
            "colorbar": {
             "outlinewidth": 0,
             "ticks": ""
            },
            "type": "choropleth"
           }
          ],
          "contour": [
           {
            "colorbar": {
             "outlinewidth": 0,
             "ticks": ""
            },
            "colorscale": [
             [
              0,
              "#0d0887"
             ],
             [
              0.1111111111111111,
              "#46039f"
             ],
             [
              0.2222222222222222,
              "#7201a8"
             ],
             [
              0.3333333333333333,
              "#9c179e"
             ],
             [
              0.4444444444444444,
              "#bd3786"
             ],
             [
              0.5555555555555556,
              "#d8576b"
             ],
             [
              0.6666666666666666,
              "#ed7953"
             ],
             [
              0.7777777777777778,
              "#fb9f3a"
             ],
             [
              0.8888888888888888,
              "#fdca26"
             ],
             [
              1,
              "#f0f921"
             ]
            ],
            "type": "contour"
           }
          ],
          "contourcarpet": [
           {
            "colorbar": {
             "outlinewidth": 0,
             "ticks": ""
            },
            "type": "contourcarpet"
           }
          ],
          "heatmap": [
           {
            "colorbar": {
             "outlinewidth": 0,
             "ticks": ""
            },
            "colorscale": [
             [
              0,
              "#0d0887"
             ],
             [
              0.1111111111111111,
              "#46039f"
             ],
             [
              0.2222222222222222,
              "#7201a8"
             ],
             [
              0.3333333333333333,
              "#9c179e"
             ],
             [
              0.4444444444444444,
              "#bd3786"
             ],
             [
              0.5555555555555556,
              "#d8576b"
             ],
             [
              0.6666666666666666,
              "#ed7953"
             ],
             [
              0.7777777777777778,
              "#fb9f3a"
             ],
             [
              0.8888888888888888,
              "#fdca26"
             ],
             [
              1,
              "#f0f921"
             ]
            ],
            "type": "heatmap"
           }
          ],
          "heatmapgl": [
           {
            "colorbar": {
             "outlinewidth": 0,
             "ticks": ""
            },
            "colorscale": [
             [
              0,
              "#0d0887"
             ],
             [
              0.1111111111111111,
              "#46039f"
             ],
             [
              0.2222222222222222,
              "#7201a8"
             ],
             [
              0.3333333333333333,
              "#9c179e"
             ],
             [
              0.4444444444444444,
              "#bd3786"
             ],
             [
              0.5555555555555556,
              "#d8576b"
             ],
             [
              0.6666666666666666,
              "#ed7953"
             ],
             [
              0.7777777777777778,
              "#fb9f3a"
             ],
             [
              0.8888888888888888,
              "#fdca26"
             ],
             [
              1,
              "#f0f921"
             ]
            ],
            "type": "heatmapgl"
           }
          ],
          "histogram": [
           {
            "marker": {
             "pattern": {
              "fillmode": "overlay",
              "size": 10,
              "solidity": 0.2
             }
            },
            "type": "histogram"
           }
          ],
          "histogram2d": [
           {
            "colorbar": {
             "outlinewidth": 0,
             "ticks": ""
            },
            "colorscale": [
             [
              0,
              "#0d0887"
             ],
             [
              0.1111111111111111,
              "#46039f"
             ],
             [
              0.2222222222222222,
              "#7201a8"
             ],
             [
              0.3333333333333333,
              "#9c179e"
             ],
             [
              0.4444444444444444,
              "#bd3786"
             ],
             [
              0.5555555555555556,
              "#d8576b"
             ],
             [
              0.6666666666666666,
              "#ed7953"
             ],
             [
              0.7777777777777778,
              "#fb9f3a"
             ],
             [
              0.8888888888888888,
              "#fdca26"
             ],
             [
              1,
              "#f0f921"
             ]
            ],
            "type": "histogram2d"
           }
          ],
          "histogram2dcontour": [
           {
            "colorbar": {
             "outlinewidth": 0,
             "ticks": ""
            },
            "colorscale": [
             [
              0,
              "#0d0887"
             ],
             [
              0.1111111111111111,
              "#46039f"
             ],
             [
              0.2222222222222222,
              "#7201a8"
             ],
             [
              0.3333333333333333,
              "#9c179e"
             ],
             [
              0.4444444444444444,
              "#bd3786"
             ],
             [
              0.5555555555555556,
              "#d8576b"
             ],
             [
              0.6666666666666666,
              "#ed7953"
             ],
             [
              0.7777777777777778,
              "#fb9f3a"
             ],
             [
              0.8888888888888888,
              "#fdca26"
             ],
             [
              1,
              "#f0f921"
             ]
            ],
            "type": "histogram2dcontour"
           }
          ],
          "mesh3d": [
           {
            "colorbar": {
             "outlinewidth": 0,
             "ticks": ""
            },
            "type": "mesh3d"
           }
          ],
          "parcoords": [
           {
            "line": {
             "colorbar": {
              "outlinewidth": 0,
              "ticks": ""
             }
            },
            "type": "parcoords"
           }
          ],
          "pie": [
           {
            "automargin": true,
            "type": "pie"
           }
          ],
          "scatter": [
           {
            "fillpattern": {
             "fillmode": "overlay",
             "size": 10,
             "solidity": 0.2
            },
            "type": "scatter"
           }
          ],
          "scatter3d": [
           {
            "line": {
             "colorbar": {
              "outlinewidth": 0,
              "ticks": ""
             }
            },
            "marker": {
             "colorbar": {
              "outlinewidth": 0,
              "ticks": ""
             }
            },
            "type": "scatter3d"
           }
          ],
          "scattercarpet": [
           {
            "marker": {
             "colorbar": {
              "outlinewidth": 0,
              "ticks": ""
             }
            },
            "type": "scattercarpet"
           }
          ],
          "scattergeo": [
           {
            "marker": {
             "colorbar": {
              "outlinewidth": 0,
              "ticks": ""
             }
            },
            "type": "scattergeo"
           }
          ],
          "scattergl": [
           {
            "marker": {
             "colorbar": {
              "outlinewidth": 0,
              "ticks": ""
             }
            },
            "type": "scattergl"
           }
          ],
          "scattermapbox": [
           {
            "marker": {
             "colorbar": {
              "outlinewidth": 0,
              "ticks": ""
             }
            },
            "type": "scattermapbox"
           }
          ],
          "scatterpolar": [
           {
            "marker": {
             "colorbar": {
              "outlinewidth": 0,
              "ticks": ""
             }
            },
            "type": "scatterpolar"
           }
          ],
          "scatterpolargl": [
           {
            "marker": {
             "colorbar": {
              "outlinewidth": 0,
              "ticks": ""
             }
            },
            "type": "scatterpolargl"
           }
          ],
          "scatterternary": [
           {
            "marker": {
             "colorbar": {
              "outlinewidth": 0,
              "ticks": ""
             }
            },
            "type": "scatterternary"
           }
          ],
          "surface": [
           {
            "colorbar": {
             "outlinewidth": 0,
             "ticks": ""
            },
            "colorscale": [
             [
              0,
              "#0d0887"
             ],
             [
              0.1111111111111111,
              "#46039f"
             ],
             [
              0.2222222222222222,
              "#7201a8"
             ],
             [
              0.3333333333333333,
              "#9c179e"
             ],
             [
              0.4444444444444444,
              "#bd3786"
             ],
             [
              0.5555555555555556,
              "#d8576b"
             ],
             [
              0.6666666666666666,
              "#ed7953"
             ],
             [
              0.7777777777777778,
              "#fb9f3a"
             ],
             [
              0.8888888888888888,
              "#fdca26"
             ],
             [
              1,
              "#f0f921"
             ]
            ],
            "type": "surface"
           }
          ],
          "table": [
           {
            "cells": {
             "fill": {
              "color": "#EBF0F8"
             },
             "line": {
              "color": "white"
             }
            },
            "header": {
             "fill": {
              "color": "#C8D4E3"
             },
             "line": {
              "color": "white"
             }
            },
            "type": "table"
           }
          ]
         },
         "layout": {
          "annotationdefaults": {
           "arrowcolor": "#2a3f5f",
           "arrowhead": 0,
           "arrowwidth": 1
          },
          "autotypenumbers": "strict",
          "coloraxis": {
           "colorbar": {
            "outlinewidth": 0,
            "ticks": ""
           }
          },
          "colorscale": {
           "diverging": [
            [
             0,
             "#8e0152"
            ],
            [
             0.1,
             "#c51b7d"
            ],
            [
             0.2,
             "#de77ae"
            ],
            [
             0.3,
             "#f1b6da"
            ],
            [
             0.4,
             "#fde0ef"
            ],
            [
             0.5,
             "#f7f7f7"
            ],
            [
             0.6,
             "#e6f5d0"
            ],
            [
             0.7,
             "#b8e186"
            ],
            [
             0.8,
             "#7fbc41"
            ],
            [
             0.9,
             "#4d9221"
            ],
            [
             1,
             "#276419"
            ]
           ],
           "sequential": [
            [
             0,
             "#0d0887"
            ],
            [
             0.1111111111111111,
             "#46039f"
            ],
            [
             0.2222222222222222,
             "#7201a8"
            ],
            [
             0.3333333333333333,
             "#9c179e"
            ],
            [
             0.4444444444444444,
             "#bd3786"
            ],
            [
             0.5555555555555556,
             "#d8576b"
            ],
            [
             0.6666666666666666,
             "#ed7953"
            ],
            [
             0.7777777777777778,
             "#fb9f3a"
            ],
            [
             0.8888888888888888,
             "#fdca26"
            ],
            [
             1,
             "#f0f921"
            ]
           ],
           "sequentialminus": [
            [
             0,
             "#0d0887"
            ],
            [
             0.1111111111111111,
             "#46039f"
            ],
            [
             0.2222222222222222,
             "#7201a8"
            ],
            [
             0.3333333333333333,
             "#9c179e"
            ],
            [
             0.4444444444444444,
             "#bd3786"
            ],
            [
             0.5555555555555556,
             "#d8576b"
            ],
            [
             0.6666666666666666,
             "#ed7953"
            ],
            [
             0.7777777777777778,
             "#fb9f3a"
            ],
            [
             0.8888888888888888,
             "#fdca26"
            ],
            [
             1,
             "#f0f921"
            ]
           ]
          },
          "colorway": [
           "#636efa",
           "#EF553B",
           "#00cc96",
           "#ab63fa",
           "#FFA15A",
           "#19d3f3",
           "#FF6692",
           "#B6E880",
           "#FF97FF",
           "#FECB52"
          ],
          "font": {
           "color": "#2a3f5f"
          },
          "geo": {
           "bgcolor": "white",
           "lakecolor": "white",
           "landcolor": "#E5ECF6",
           "showlakes": true,
           "showland": true,
           "subunitcolor": "white"
          },
          "hoverlabel": {
           "align": "left"
          },
          "hovermode": "closest",
          "mapbox": {
           "style": "light"
          },
          "paper_bgcolor": "white",
          "plot_bgcolor": "#E5ECF6",
          "polar": {
           "angularaxis": {
            "gridcolor": "white",
            "linecolor": "white",
            "ticks": ""
           },
           "bgcolor": "#E5ECF6",
           "radialaxis": {
            "gridcolor": "white",
            "linecolor": "white",
            "ticks": ""
           }
          },
          "scene": {
           "xaxis": {
            "backgroundcolor": "#E5ECF6",
            "gridcolor": "white",
            "gridwidth": 2,
            "linecolor": "white",
            "showbackground": true,
            "ticks": "",
            "zerolinecolor": "white"
           },
           "yaxis": {
            "backgroundcolor": "#E5ECF6",
            "gridcolor": "white",
            "gridwidth": 2,
            "linecolor": "white",
            "showbackground": true,
            "ticks": "",
            "zerolinecolor": "white"
           },
           "zaxis": {
            "backgroundcolor": "#E5ECF6",
            "gridcolor": "white",
            "gridwidth": 2,
            "linecolor": "white",
            "showbackground": true,
            "ticks": "",
            "zerolinecolor": "white"
           }
          },
          "shapedefaults": {
           "line": {
            "color": "#2a3f5f"
           }
          },
          "ternary": {
           "aaxis": {
            "gridcolor": "white",
            "linecolor": "white",
            "ticks": ""
           },
           "baxis": {
            "gridcolor": "white",
            "linecolor": "white",
            "ticks": ""
           },
           "bgcolor": "#E5ECF6",
           "caxis": {
            "gridcolor": "white",
            "linecolor": "white",
            "ticks": ""
           }
          },
          "title": {
           "x": 0.05
          },
          "xaxis": {
           "automargin": true,
           "gridcolor": "white",
           "linecolor": "white",
           "ticks": "",
           "title": {
            "standoff": 15
           },
           "zerolinecolor": "white",
           "zerolinewidth": 2
          },
          "yaxis": {
           "automargin": true,
           "gridcolor": "white",
           "linecolor": "white",
           "ticks": "",
           "title": {
            "standoff": 15
           },
           "zerolinecolor": "white",
           "zerolinewidth": 2
          }
         }
        },
        "title": {
         "text": "Hyperparameter Importances"
        },
        "xaxis": {
         "title": {
          "text": "Hyperparameter Importance"
         }
        },
        "yaxis": {
         "title": {
          "text": "Hyperparameter"
         }
        }
       }
      }
     },
     "metadata": {},
     "output_type": "display_data"
    }
   ],
   "source": [
    "\n",
    "# Lancer l'optimisation avec Optuna\n",
    "study = optuna.create_study(direction=\"maximize\")  # On maximise le Kappa Score\n",
    "study.optimize(objective, n_trials=5, n_jobs=2)  # Ajustez le nombre de trials selon vos ressources\n",
    "\n",
    "# Résultats\n",
    "print(\"Best hyperparameters:\", study.best_params)\n",
    "print(\"Best Kappa Score:\", study.best_value)\n",
    "\n",
    "# Visualisation des résultats (facultatif)\n",
    "optuna.visualization.plot_optimization_history(study).show()\n",
    "optuna.visualization.plot_param_importances(study).show()\n"
   ]
  },
  {
   "cell_type": "code",
   "execution_count": 1,
   "metadata": {},
   "outputs": [
    {
     "data": {
      "image/png": "[encoded data removed]",
      "text/plain": [
       "<IPython.core.display.Image object>"
      ]
     },
     "metadata": {},
     "output_type": "display_data"
    }
   ],
   "source": [
    "from IPython.display import Image, display\n",
    "# Le plot ne s'affichait pas\n",
    "display(Image(filename='newplot.png'))"
   ]
  },
  {
   "cell_type": "markdown",
   "metadata": {},
   "source": [
    "Bien que l'apprentissage soit vraiment limité en nombre d'étapes, on obtient une idée de la région pour laquelle la valeur d'alpha est la meilleure."
   ]
  },
  {
   "cell_type": "markdown",
   "metadata": {
    "id": "uVSskp5_DJPq"
   },
   "source": [
    "# Submission part"
   ]
  },
  {
   "cell_type": "code",
   "execution_count": null,
   "metadata": {
    "colab": {
     "base_uri": "https://localhost:8080/"
    },
    "executionInfo": {
     "elapsed": 16530,
     "status": "ok",
     "timestamp": 1736437910177,
     "user": {
      "displayName": "Raphaël FAURE",
      "userId": "04881643138100346385"
     },
     "user_tz": -60
    },
    "id": "EOsIOpxeDJPq",
    "outputId": "eb44c85a-aff5-4427-dbed-62ec54d4b023"
   },
   "outputs": [
    {
     "name": "stdout",
     "output_type": "stream",
     "text": [
      "Loaded signal shape: (5, 6602015)\n",
      "Reshaped signal shape: (5, 13204, 500)\n",
      "Loaded signal shape: (5, 4659937)\n",
      "Reshaped signal shape: (5, 9319, 500)\n",
      "Final concatenated data shape: (112615, 500)\n"
     ]
    }
   ],
   "source": [
    "# Exemple d'utilisation\n",
    "test_files = [r\"test\\data_4.npy\", r\"test\\data_5.npy\"]  \n",
    "# Initialiser le dataset\n",
    "submission_set = EEGDataset_test(test_files)\n",
    "# Charger les données\n",
    "submission_loader = DataLoader(submission_set, batch_size=64, shuffle=True)\n",
    "\n",
    "device = \"cuda\" if torch.cuda.is_available() else \"cpu\""
   ]
  },
  {
   "cell_type": "code",
   "execution_count": 103,
   "metadata": {
    "colab": {
     "base_uri": "https://localhost:8080/"
    },
    "executionInfo": {
     "elapsed": 231,
     "status": "ok",
     "timestamp": 1736437914990,
     "user": {
      "displayName": "Raphaël FAURE",
      "userId": "04881643138100346385"
     },
     "user_tz": -60
    },
    "id": "S5MMCzQUDJPr",
    "outputId": "295c3fe7-1d01-4e60-a4b8-a4bae94483cb"
   },
   "outputs": [
    {
     "data": {
      "text/plain": [
       "112615"
      ]
     },
     "execution_count": 103,
     "metadata": {},
     "output_type": "execute_result"
    }
   ],
   "source": [
    "submission_set.__len__()"
   ]
  },
  {
   "cell_type": "code",
   "execution_count": 106,
   "metadata": {
    "executionInfo": {
     "elapsed": 209,
     "status": "ok",
     "timestamp": 1736443814189,
     "user": {
      "displayName": "Raphaël FAURE",
      "userId": "04881643138100346385"
     },
     "user_tz": -60
    },
    "id": "fnJO8DnTFLxV"
   },
   "outputs": [],
   "source": [
    "def evaluate_xgboost(xgb, model, loader):\n",
    "    \"\"\"\n",
    "    Évalue un XGBoost en utilisant les caractéristiques extraites par un modèle CNN.\n",
    "\n",
    "    Parameters:\n",
    "    - xgb: XGBClassifier entraîné.\n",
    "    - model: Modèle CNN utilisé pour extraire les caractéristiques.\n",
    "    - loader: DataLoader contenant les données d'évaluation.\n",
    "\n",
    "    Returns:\n",
    "    - reshaped_predictions: Prédictions reshaped en (5, Nombre_de_signaux/5).\n",
    "    \"\"\"\n",
    "    model.eval()\n",
    "    device = \"cuda\" if torch.cuda.is_available() else \"cpu\"\n",
    "    model.to(device)\n",
    "\n",
    "    total_signals = 0\n",
    "    predictions = []\n",
    "    batch_count = 0\n",
    "\n",
    "    with torch.no_grad():\n",
    "        for signals, _ in loader:\n",
    "            batch_count += 1\n",
    "            signals = signals.to(device)\n",
    "            signals = signals.float()\n",
    "            features = model(signals)  # Extraire les caractéristiques\n",
    "            preds = xgb.predict(features.cpu().numpy())\n",
    "            predictions.extend(preds)\n",
    "\n",
    "            # Comptage\n",
    "            total_signals += signals.shape[0]\n",
    "\n",
    "    # Résumé\n",
    "    print(f\"Nombre total de batchs : {batch_count}\")\n",
    "    print(f\"Nombre total de signaux explorés : {total_signals}\")\n",
    "    predictions = np.array(predictions)\n",
    "\n",
    "    # Vérifier que le nombre total de prédictions est divisible par 5\n",
    "    assert predictions.shape[0] % 5 == 0, \"Le nombre total de prédictions n'est pas divisible par 5.\"\n",
    "\n",
    "    # Reshaper les prédictions en (5, Nombre_de_signaux/5)\n",
    "    reshaped_predictions = predictions.reshape(5, -1)\n",
    "    print(reshaped_predictions.shape, \"ici\")\n",
    "    return reshaped_predictions\n"
   ]
  },
  {
   "cell_type": "code",
   "execution_count": 107,
   "metadata": {
    "executionInfo": {
     "elapsed": 250,
     "status": "ok",
     "timestamp": 1736437921018,
     "user": {
      "displayName": "Raphaël FAURE",
      "userId": "04881643138100346385"
     },
     "user_tz": -60
    },
    "id": "4XYd4e2KDJPr"
   },
   "outputs": [],
   "source": [
    "def format_array_to_target_format(array, record_number):\n",
    "    assert isinstance(record_number, int)\n",
    "    assert isinstance(array, np.ndarray)\n",
    "    assert len(array.shape) == 2\n",
    "    assert array.shape[0] == 5\n",
    "    assert set(np.unique(array)) == {0, 1}\n",
    "    formatted_target = []\n",
    "    for i in range(array.shape[0]):\n",
    "        channel_encoding = (i + 1) * 100000\n",
    "        record_number_encoding = record_number * 1000000\n",
    "        for j in range(array.shape[1]):\n",
    "            formatted_target.append(\n",
    "                {\n",
    "                    \"identifier\": record_number_encoding + channel_encoding + j,\n",
    "                    \"target\": array[i, j],\n",
    "                }\n",
    "            )\n",
    "    return formatted_target"
   ]
  },
  {
   "cell_type": "code",
   "execution_count": null,
   "metadata": {
    "colab": {
     "base_uri": "https://localhost:8080/"
    },
    "executionInfo": {
     "elapsed": 28881,
     "status": "ok",
     "timestamp": 1736445911516,
     "user": {
      "displayName": "Raphaël FAURE",
      "userId": "04881643138100346385"
     },
     "user_tz": -60
    },
    "id": "QzIPCjvBDJPs",
    "outputId": "1f6949cc-9ca4-4540-efbc-bb8dedcced25"
   },
   "outputs": [],
   "source": [
    "# Initialiser le modèle\n",
    "device = \"cuda\" if torch.cuda.is_available() else \"cpu\"\n",
    "results, results_rf, results_XGB = [], [], []\n",
    "# Exemple d'utilisation\n",
    "test_data  = [(4,r\"test\\data_4.npy\"\n",
    "), (5, r\"test\\data_5.npy\")]\n",
    "for i, test_file in enumerate(test_data):\n",
    "    # Initialiser le dataset\n",
    "    submission_set = EEGDataset_test([test_file[1]])\n",
    "    # Charger les données\n",
    "    submission_loader = DataLoader(submission_set, batch_size=64, shuffle=False)\n",
    "    prediction_XGB = evaluate_xgboost(xgb_, model=model_,loader=submission_loader)\n",
    "    formatted_preds_XGB = format_array_to_target_format(prediction_XGB,test_file[0])\n",
    "    results_XGB.extend(formatted_preds_XGB)\n"
   ]
  },
  {
   "cell_type": "code",
   "execution_count": null,
   "metadata": {
    "colab": {
     "base_uri": "https://localhost:8080/"
    },
    "executionInfo": {
     "elapsed": 670,
     "status": "ok",
     "timestamp": 1736445912182,
     "user": {
      "displayName": "Raphaël FAURE",
      "userId": "04881643138100346385"
     },
     "user_tz": -60
    },
    "id": "NlqEm7WVHmH8",
    "outputId": "0939fef3-ea88-4c6b-c547-b385f6a7d627"
   },
   "outputs": [],
   "source": [
    "df_xgb = pd.DataFrame(results_XGB)\n",
    "\n",
    "df_xgb[\"identifier\"] = df_xgb[\"identifier\"].astype(int)\n",
    "df_xgb[\"target\"] = df_xgb[\"target\"].astype(int)\n",
    "\n",
    "df_xgb.to_csv(\"submission_xgb_.csv\",sep=\",\",index = False, na_rep=\"0\")\n",
    "\n",
    "df_xgb.to_parquet(\"submission_xgb_.parquet\", engine=\"pyarrow\", index=False)\n",
    "print(df_xgb)"
   ]
  },
  {
   "cell_type": "markdown",
   "metadata": {},
   "source": [
    "Le modèle n'a pas été autant performant que nous le souhaitions même si nous avons obtenu un score de 0.761. Nous pensons qu'avec plus de ressources et de recul, nous aurions pu mieux dimensionner notre modèle et améliorer ses performances."
   ]
  }
 ],
 "metadata": {
  "colab": {
   "provenance": [],
   "toc_visible": true
  },
  "kernelspec": {
   "display_name": "Python 3",
   "name": "python3"
  },
  "language_info": {
   "codemirror_mode": {
    "name": "ipython",
    "version": 3
   },
   "file_extension": ".py",
   "mimetype": "text/x-python",
   "name": "python",
   "nbconvert_exporter": "python",
   "pygments_lexer": "ipython3",
   "version": "3.11.9"
  }
 },
 "nbformat": 4,
 "nbformat_minor": 0
}
